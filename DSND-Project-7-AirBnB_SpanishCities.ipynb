{
 "cells": [
  {
   "cell_type": "markdown",
   "metadata": {
    "colab_type": "text",
    "id": "rMVNBgH1S1He"
   },
   "source": [
    "# Introduction\n",
    "\n",
    "The questions I hope to answer in this notebook are:\n",
    "\n",
    "1. How does pricing compare among all 3 cities throughout the year?\n",
    "2. How do price distributions compare between each city?\n",
    "3. Where might you find the highest listing prices in each city?\n",
    "4. What features of an AirBnB listing influence price for major cities in Spain?\n",
    "\n",
    "For the first question, I will  use the 'calendars.csv' datasets provided by insideairbnb.com. This dataset contains information on price per listing on any given day of the year.\n",
    "\n",
    "The second and third questions will be answered with aggregations and visualizations on the data, using the 'listings.csv' datasets.\n",
    "\n",
    "To answer the third question, I will model a regressor to predict the feature 'prices' using the rest of the features in the dataset."
   ]
  },
  {
   "cell_type": "code",
   "execution_count": 0,
   "metadata": {
    "colab": {},
    "colab_type": "code",
    "id": "lZUUJIyZlzS0"
   },
   "outputs": [],
   "source": [
    "import re\n",
    "import pandas as pd\n",
    "import numpy as np\n",
    "import matplotlib.pyplot as plt\n",
    "import matplotlib.dates as pltdates\n",
    "import seaborn as sns\n",
    "\n",
    "pd.options.mode.chained_assignment = None\n",
    "plt.style.use('ggplot')"
   ]
  },
  {
   "cell_type": "code",
   "execution_count": 0,
   "metadata": {
    "colab": {},
    "colab_type": "code",
    "id": "jqApoz6s9jp9"
   },
   "outputs": [],
   "source": [
    "main = 'drive/My Drive/Colab Notebooks/AirBnB'"
   ]
  },
  {
   "cell_type": "markdown",
   "metadata": {
    "colab_type": "text",
    "id": "h5IZjwW2ntJn"
   },
   "source": [
    "# Question 1 - Differences in Listing Price Distributions\n",
    "\n",
    "I will answer this question in two ways: \n",
    "\n",
    "1. I'll first compare the proportion of listings that fall within ranges of prices for each city\n",
    "2. I'll then compare how the prices fluctuate throughout the year\n",
    "\n",
    "By answering these questions, I can learn how costs of listings differ from each city - perhaps there is one that is significantly more expensive? I can also learn the composition of high-priced listings (eg. are 10% of listings priced over $100 per night?)."
   ]
  },
  {
   "cell_type": "code",
   "execution_count": 9,
   "metadata": {
    "colab": {
     "base_uri": "https://localhost:8080/",
     "height": 391
    },
    "colab_type": "code",
    "id": "spZd9fej2N-d",
    "outputId": "a2e26407-ff06-4e71-fc8a-60af58203fc9"
   },
   "outputs": [
    {
     "name": "stdout",
     "output_type": "stream",
     "text": [
      "=====dataset dimensions=====\n",
      "Barcelona:  (7447460, 7)\n",
      "Madrid:  (7605505, 7)\n",
      "Valencia:  (2640075, 7)\n",
      "\n",
      "=====column names=====\n",
      "Index(['listing_id', 'date', 'available', 'price', 'adjusted_price',\n",
      "       'minimum_nights', 'maximum_nights'],\n",
      "      dtype='object')\n",
      "\n",
      "=====Subset=====\n"
     ]
    },
    {
     "data": {
      "text/html": [
       "<div>\n",
       "<style scoped>\n",
       "    .dataframe tbody tr th:only-of-type {\n",
       "        vertical-align: middle;\n",
       "    }\n",
       "\n",
       "    .dataframe tbody tr th {\n",
       "        vertical-align: top;\n",
       "    }\n",
       "\n",
       "    .dataframe thead th {\n",
       "        text-align: right;\n",
       "    }\n",
       "</style>\n",
       "<table border=\"1\" class=\"dataframe\">\n",
       "  <thead>\n",
       "    <tr style=\"text-align: right;\">\n",
       "      <th></th>\n",
       "      <th>listing_id</th>\n",
       "      <th>date</th>\n",
       "      <th>available</th>\n",
       "      <th>price</th>\n",
       "      <th>adjusted_price</th>\n",
       "      <th>minimum_nights</th>\n",
       "      <th>maximum_nights</th>\n",
       "    </tr>\n",
       "  </thead>\n",
       "  <tbody>\n",
       "    <tr>\n",
       "      <th>0</th>\n",
       "      <td>206846</td>\n",
       "      <td>2019-09-17</td>\n",
       "      <td>t</td>\n",
       "      <td>$118.00</td>\n",
       "      <td>$94.00</td>\n",
       "      <td>31</td>\n",
       "      <td>190</td>\n",
       "    </tr>\n",
       "    <tr>\n",
       "      <th>1</th>\n",
       "      <td>18666</td>\n",
       "      <td>2019-09-17</td>\n",
       "      <td>f</td>\n",
       "      <td>$130.00</td>\n",
       "      <td>$130.00</td>\n",
       "      <td>3</td>\n",
       "      <td>730</td>\n",
       "    </tr>\n",
       "    <tr>\n",
       "      <th>2</th>\n",
       "      <td>18666</td>\n",
       "      <td>2019-09-18</td>\n",
       "      <td>f</td>\n",
       "      <td>$130.00</td>\n",
       "      <td>$130.00</td>\n",
       "      <td>3</td>\n",
       "      <td>730</td>\n",
       "    </tr>\n",
       "    <tr>\n",
       "      <th>3</th>\n",
       "      <td>18666</td>\n",
       "      <td>2019-09-19</td>\n",
       "      <td>f</td>\n",
       "      <td>$130.00</td>\n",
       "      <td>$130.00</td>\n",
       "      <td>3</td>\n",
       "      <td>730</td>\n",
       "    </tr>\n",
       "    <tr>\n",
       "      <th>4</th>\n",
       "      <td>18666</td>\n",
       "      <td>2019-09-20</td>\n",
       "      <td>f</td>\n",
       "      <td>$130.00</td>\n",
       "      <td>$130.00</td>\n",
       "      <td>3</td>\n",
       "      <td>730</td>\n",
       "    </tr>\n",
       "  </tbody>\n",
       "</table>\n",
       "</div>"
      ],
      "text/plain": [
       "   listing_id        date  ... minimum_nights maximum_nights\n",
       "0      206846  2019-09-17  ...             31            190\n",
       "1       18666  2019-09-17  ...              3            730\n",
       "2       18666  2019-09-18  ...              3            730\n",
       "3       18666  2019-09-19  ...              3            730\n",
       "4       18666  2019-09-20  ...              3            730\n",
       "\n",
       "[5 rows x 7 columns]"
      ]
     },
     "execution_count": 9,
     "metadata": {
      "tags": []
     },
     "output_type": "execute_result"
    }
   ],
   "source": [
    "# read in calendars.csv here - inspect files\n",
    "# from source: insideairbnb.com - calendars.csv files contain detailed calendar data for each listing in the city\n",
    "bc_cal = pd.read_csv(main+'/barcelona_cal.csv')\n",
    "md_cal = pd.read_csv(main+'/madrid_cal.csv')\n",
    "vc_cal = pd.read_csv(main+'/valencia_cal.csv')\n",
    "\n",
    "bc_cal.name = 'Barcelona'\n",
    "md_cal.name = 'Madrid'\n",
    "vc_cal.name = 'Valencia'\n",
    "\n",
    "print('=====dataset dimensions=====')\n",
    "print('Barcelona: ', bc_cal.shape)\n",
    "print('Madrid: ', md_cal.shape)\n",
    "print('Valencia: ', vc_cal.shape)\n",
    "print('\\n=====column names=====')\n",
    "print(bc_cal.columns)\n",
    "print('\\n=====Subset=====')\n",
    "bc_cal.head()"
   ]
  },
  {
   "cell_type": "code",
   "execution_count": 10,
   "metadata": {
    "colab": {
     "base_uri": "https://localhost:8080/",
     "height": 323
    },
    "colab_type": "code",
    "id": "WhvfHTI7UP6X",
    "outputId": "60f76769-5fdd-4f31-a60c-8f598eae41f0"
   },
   "outputs": [
    {
     "name": "stdout",
     "output_type": "stream",
     "text": [
      "\n",
      "====Barcelona====\n",
      "Price column converted to float64\n",
      "Earliest Date: 2019-09-17\n",
      "Latest Date: 2020-10-06\n",
      "385 days exist in the dataframe\n",
      "\n",
      "====Madrid====\n",
      "Price column converted to float64\n",
      "Earliest Date: 2019-09-19\n",
      "Latest Date: 2020-09-17\n",
      "364 days exist in the dataframe\n",
      "\n",
      "====Valencia====\n",
      "Price column converted to float64\n",
      "Earliest Date: 2019-09-30\n",
      "Latest Date: 2020-10-10\n",
      "376 days exist in the dataframe\n"
     ]
    }
   ],
   "source": [
    "# reformat price information - for this question, I will be looking at the price distribution throughout the year for each city\n",
    "cal_dfs = [bc_cal, md_cal, vc_cal]\n",
    "\n",
    "for df in cal_dfs:\n",
    "    print(f'\\n===={df.name}====')\n",
    "    df['price'] = df['price'].str.replace('[^0-9\\.]', '').astype(float)\n",
    "    print(f\"Price column converted to {df['price'].dtype}\") # confirm the reformat\n",
    "\n",
    "    df['date'] = pd.to_datetime(df['date']).dt.date\n",
    "    print(f\"Earliest Date: {df['date'].min()}\")\n",
    "    print(f\"Latest Date: {df['date'].max()}\")\n",
    "\n",
    "    date_range = df['date'].max() - df['date'].min()\n",
    "    print(f\"{str(date_range).split(',')[0]} exist in the dataframe\")"
   ]
  },
  {
   "cell_type": "code",
   "execution_count": 0,
   "metadata": {
    "colab": {
     "base_uri": "https://localhost:8080/",
     "height": 462
    },
    "colab_type": "code",
    "id": "vuN44foWk178",
    "outputId": "7e5b2068-e3aa-4abd-9b0a-f4e613b2e9cf"
   },
   "outputs": [
    {
     "data": {
      "image/png": "[encoded data removed]",
      "text/plain": [
       "<Figure size 1080x504 with 1 Axes>"
      ]
     },
     "metadata": {
      "tags": []
     },
     "output_type": "display_data"
    }
   ],
   "source": [
    "# to plot the average listing price throughout the year, it'd be wise to use a rolling average with a weeklong window\n",
    "import matplotlib.dates as mat_dates\n",
    "bc_grouped_price = pd.DataFrame(bc_cal.groupby('date')['price'].mean())\n",
    "md_grouped_price = pd.DataFrame(md_cal.groupby('date')['price'].mean())\n",
    "vc_grouped_price = pd.DataFrame(vc_cal.groupby('date')['price'].mean())\n",
    "\n",
    "plt.figure(figsize=(15,7))\n",
    "plt.plot(pd.to_datetime(bc_grouped_price.index), bc_grouped_price.rolling(window=7, center=True).mean(), label='Barcelona')\n",
    "plt.plot(pd.to_datetime(md_grouped_price.index), md_grouped_price.rolling(window=7, center=True).mean(), label='Madrid')\n",
    "plt.plot(pd.to_datetime(vc_grouped_price.index), vc_grouped_price.rolling(window=7, center=True).mean(), label='Valencia')\n",
    "\n",
    "date_fmt = pltdates.DateFormatter('%b%Y')\n",
    "plt.legend()\n",
    "x_axis = plt.gca().xaxis\n",
    "x_axis.set_major_locator(mat_dates.MonthLocator())\n",
    "x_axis.set_major_formatter(date_fmt)\n",
    "\n",
    "plt.xlabel('Month')\n",
    "plt.title('Average AirBnB Prices for 3 Spanish Cities')\n",
    "plt.show()"
   ]
  },
  {
   "cell_type": "markdown",
   "metadata": {
    "colab_type": "text",
    "id": "FCnsdkzl2KYX"
   },
   "source": [
    "# Question 1 Conclusion\n",
    "\n",
    "We can ignore the time period after September 2020, as not all cities contain data for the month of October.. \n",
    "\n",
    "For the time period between September 2019 and September 2020, we can see that Barcelona will spike in prices the highest, beginning in January 2020. Similarily the other two cities also rise in prices during this time, but none more significant than Barcelona. \n",
    "\n",
    "Prices steadily grow again as the year enters the Spring and Summer seasons. Valencia appears to remain the cheapest throughout the year. Both Barcelona and Madrid experience spikes in average listings price near the end of February and start of March. It should be noted that there is a long weekend during this time period. \n",
    "\n",
    "Both cities again experience similar raises and dips in price for what appears to be the first two weeks - in Spanish culture, *Semana Santa* is a week long holiday that happens during this time. Likely, domestic tourists will be mobilizing around the country and hoping to secure holiday destinations. It makes sense that Barcelona is the higher priced, as this is a *very* popular vacation destination from people around the world."
   ]
  },
  {
   "cell_type": "markdown",
   "metadata": {
    "colab_type": "text",
    "id": "HEZj180w06kh"
   },
   "source": [
    "# Question 2 - How Do Price Distributions Differ Between Cities?"
   ]
  },
  {
   "cell_type": "code",
   "execution_count": 13,
   "metadata": {
    "colab": {
     "base_uri": "https://localhost:8080/",
     "height": 71
    },
    "colab_type": "code",
    "id": "OJQsFIe7mNUh",
    "outputId": "4633d883-c235-4288-92b8-629164626488"
   },
   "outputs": [
    {
     "name": "stderr",
     "output_type": "stream",
     "text": [
      "/usr/local/lib/python3.6/dist-packages/IPython/core/interactiveshell.py:2718: DtypeWarning: Columns (43,61,62) have mixed types. Specify dtype option on import or set low_memory=False.\n",
      "  interactivity=interactivity, compiler=compiler, result=result)\n"
     ]
    }
   ],
   "source": [
    "# Read all listings and join into one dataframe\n",
    "# from source: insideairbnb.com - listings.csv file contain detailed listings data for each city\n",
    "bc_list = pd.read_csv(main + '/barcelona_list.csv')\n",
    "md_list = pd.read_csv(main + '/madrid_list.csv')\n",
    "vc_list = pd.read_csv(main + '/valencia_list.csv')\n",
    "\n",
    "dfs = [bc_list, md_list, vc_list]\n",
    "\n",
    "# The existing datasets contain a feature named 'city' - however it contains\n",
    "# names of extending regions, neighbourhoods, and other municipal-related nomenclature. \n",
    "# I just want the 3 cities so it's easier to drop & create a new column with the correct cities.\n",
    "for df in dfs:\n",
    "    df.drop('city', axis=1, inplace=True)\n",
    "    df['price'] = df['price'].str.replace('[^0-9\\.]', '').astype(float)\n",
    "\n",
    "bc_list['city'] = 'Barcelona'\n",
    "md_list['city'] = 'Madrid'\n",
    "vc_list['city'] = 'Valencia'"
   ]
  },
  {
   "cell_type": "code",
   "execution_count": 0,
   "metadata": {
    "colab": {},
    "colab_type": "code",
    "id": "u9SRZ1M2kM5l"
   },
   "outputs": [],
   "source": [
    "# for convenience sake I'm going to combine the datasets, drop outliers, and plot by city aggregation\n",
    "all_cities = pd.concat(dfs, ignore_index=True) \n",
    "#pd.to_pickle(all_cities, main+'/all_cities_uncleaned.pkl')"
   ]
  },
  {
   "cell_type": "code",
   "execution_count": 67,
   "metadata": {
    "colab": {
     "base_uri": "https://localhost:8080/",
     "height": 299
    },
    "colab_type": "code",
    "id": "lJkaCxFGk4E3",
    "outputId": "a71f054c-cd54-4e20-8829-87801fe49477"
   },
   "outputs": [
    {
     "data": {
      "image/png": "[encoded data removed]",
      "text/plain": [
       "<Figure size 432x288 with 1 Axes>"
      ]
     },
     "metadata": {
      "tags": []
     },
     "output_type": "display_data"
    }
   ],
   "source": [
    "# Let's get a visual on how dispersed the pricing is per city\n",
    "ax = sns.boxplot(x='city', y = 'price', data=all_cities, )\n",
    "ax.set_title('Price Distribution per City')\n",
    "plt.show()"
   ]
  },
  {
   "cell_type": "markdown",
   "metadata": {
    "colab_type": "text",
    "id": "mSx8B9Hyli3u"
   },
   "source": [
    "Wow those are some major outliers! I wonder what type of AirBnB is priced at $10,000!! As an expat living on an English teachers' salary, I will never know. I'm going to need to drop some listings. To determine a price threshold, I'll check the count & percentage of listings whose prices fall within some reasonable ranges."
   ]
  },
  {
   "cell_type": "code",
   "execution_count": 39,
   "metadata": {
    "colab": {
     "base_uri": "https://localhost:8080/",
     "height": 374
    },
    "colab_type": "code",
    "id": "T9rCvt9upWO5",
    "outputId": "c1ac490e-8067-4a70-c843-8dcfb6dce550"
   },
   "outputs": [
    {
     "data": {
      "text/plain": [
       "price\n",
       "(0, 500]        0.973450\n",
       "(500, 1000]     0.015596\n",
       "(1000, 1500]    0.004456\n",
       "(1500, 2000]    0.001238\n",
       "(2000, 2500]    0.000413\n",
       "(2500, 3000]    0.000722\n",
       "(3000, 3500]    0.000041\n",
       "(3500, 4000]    0.000062\n",
       "(4000, 4500]    0.000062\n",
       "(4500, 5000]    0.002558\n",
       "(5000, 5500]    0.000000\n",
       "(5500, 6000]    0.000619\n",
       "(6000, 6500]    0.000000\n",
       "(6500, 7000]    0.000000\n",
       "(7000, 7500]    0.000000\n",
       "(7500, 8000]    0.000268\n",
       "(8000, 8500]    0.000021\n",
       "(8500, 9000]    0.000268\n",
       "(9000, 9500]    0.000041\n",
       "Name: id, dtype: float64"
      ]
     },
     "execution_count": 39,
     "metadata": {
      "tags": []
     },
     "output_type": "execute_result"
    }
   ],
   "source": [
    "# printing the percentages of listings per price ranges of $500\n",
    "all_cities.groupby(pd.cut(all_cities['price'], np.arange(0, 10000, 500)))['id'].count()/len(all_cities)"
   ]
  },
  {
   "cell_type": "markdown",
   "metadata": {
    "colab_type": "text",
    "id": "vbtV1fFGqazj"
   },
   "source": [
    "Looks like 97% of the listings in the combined dataset have prices under 500. This seems like a reasonable threshold. I don't believe it would be very representative of AirBnB's customer base if we conduct an analysis assuming all customers can afford a nightly rate of 500 or more!"
   ]
  },
  {
   "cell_type": "code",
   "execution_count": 42,
   "metadata": {
    "colab": {
     "base_uri": "https://localhost:8080/",
     "height": 34
    },
    "colab_type": "code",
    "id": "iMEldKnAnHow",
    "outputId": "e2d4c8f3-b20e-4710-e782-81d639dab1d1"
   },
   "outputs": [
    {
     "name": "stdout",
     "output_type": "stream",
     "text": [
      "46906 rows remain\n"
     ]
    }
   ],
   "source": [
    "# drop price outliers\n",
    "all_cities_dropped_prices = all_cities[all_cities.price <500]\n",
    "print(f\"{all_cities_dropped_prices.shape[0]} rows remain\")"
   ]
  },
  {
   "cell_type": "code",
   "execution_count": 43,
   "metadata": {
    "colab": {
     "base_uri": "https://localhost:8080/",
     "height": 299
    },
    "colab_type": "code",
    "id": "H6dvRoH4nbPL",
    "outputId": "56f219d3-208e-4f27-d5e6-7e101f6f13b6"
   },
   "outputs": [
    {
     "data": {
      "image/png": "[encoded data removed]",
      "text/plain": [
       "<Figure size 432x288 with 1 Axes>"
      ]
     },
     "metadata": {
      "tags": []
     },
     "output_type": "display_data"
    }
   ],
   "source": [
    "ax = sns.boxplot(x='city', y = 'price', data=all_cities_dropped_prices, )\n",
    "ax.set_title('Price Distribution per City')\n",
    "plt.show()"
   ]
  },
  {
   "cell_type": "markdown",
   "metadata": {
    "colab_type": "text",
    "id": "NkMogTYO11tm"
   },
   "source": [
    "Looking at the boxplots of the dropped prices dataset, we can see that the upper bounds for Barcelona and Madrid don't extend past $200 per night. Valencia is just short of these. The median price hovers between 0 and 100 for each city, with Valencia's being slightly lower than the other two. Let's get these actual figures by dividing the dataset up again by city, and doing a final plot of the proportions per price bin"
   ]
  },
  {
   "cell_type": "code",
   "execution_count": 78,
   "metadata": {
    "colab": {
     "base_uri": "https://localhost:8080/",
     "height": 142
    },
    "colab_type": "code",
    "id": "EfOrpSuW23db",
    "outputId": "2cc7dc63-3089-48bc-bb10-c8ecbe272857"
   },
   "outputs": [
    {
     "data": {
      "text/html": [
       "<div>\n",
       "<style scoped>\n",
       "    .dataframe tbody tr th:only-of-type {\n",
       "        vertical-align: middle;\n",
       "    }\n",
       "\n",
       "    .dataframe tbody tr th {\n",
       "        vertical-align: top;\n",
       "    }\n",
       "\n",
       "    .dataframe thead th {\n",
       "        text-align: right;\n",
       "    }\n",
       "</style>\n",
       "<table border=\"1\" class=\"dataframe\">\n",
       "  <thead>\n",
       "    <tr style=\"text-align: right;\">\n",
       "      <th></th>\n",
       "      <th>count</th>\n",
       "      <th>mean</th>\n",
       "      <th>std</th>\n",
       "      <th>min</th>\n",
       "      <th>25%</th>\n",
       "      <th>50%</th>\n",
       "      <th>75%</th>\n",
       "      <th>max</th>\n",
       "    </tr>\n",
       "  </thead>\n",
       "  <tbody>\n",
       "    <tr>\n",
       "      <th>Barcelona</th>\n",
       "      <td>19857.0</td>\n",
       "      <td>84.063857</td>\n",
       "      <td>71.195851</td>\n",
       "      <td>6.0</td>\n",
       "      <td>39.0</td>\n",
       "      <td>60.0</td>\n",
       "      <td>100.0</td>\n",
       "      <td>499.0</td>\n",
       "    </tr>\n",
       "    <tr>\n",
       "      <th>Madrid</th>\n",
       "      <td>19872.0</td>\n",
       "      <td>81.093951</td>\n",
       "      <td>69.742078</td>\n",
       "      <td>8.0</td>\n",
       "      <td>38.0</td>\n",
       "      <td>62.0</td>\n",
       "      <td>96.0</td>\n",
       "      <td>499.0</td>\n",
       "    </tr>\n",
       "    <tr>\n",
       "      <th>Valencia</th>\n",
       "      <td>7177.0</td>\n",
       "      <td>64.503832</td>\n",
       "      <td>46.956997</td>\n",
       "      <td>9.0</td>\n",
       "      <td>35.0</td>\n",
       "      <td>56.0</td>\n",
       "      <td>79.0</td>\n",
       "      <td>470.0</td>\n",
       "    </tr>\n",
       "  </tbody>\n",
       "</table>\n",
       "</div>"
      ],
      "text/plain": [
       "             count       mean        std  min   25%   50%    75%    max\n",
       "Barcelona  19857.0  84.063857  71.195851  6.0  39.0  60.0  100.0  499.0\n",
       "Madrid     19872.0  81.093951  69.742078  8.0  38.0  62.0   96.0  499.0\n",
       "Valencia    7177.0  64.503832  46.956997  9.0  35.0  56.0   79.0  470.0"
      ]
     },
     "execution_count": 78,
     "metadata": {
      "tags": []
     },
     "output_type": "execute_result"
    }
   ],
   "source": [
    "describe_by_city = pd.DataFrame(group.describe().rename(columns={'price':name}).squeeze()\n",
    "                         for name, group in all_cities_dropped_prices.groupby('city')['price'])\n",
    "describe_by_city.set_index(pd.Series(['Barcelona', 'Madrid', 'Valencia']))"
   ]
  },
  {
   "cell_type": "markdown",
   "metadata": {
    "colab_type": "text",
    "id": "wnFrTstd3pi_"
   },
   "source": [
    "In the dropped prices data, for each city the mean price ranges from $64 - 84. Barcelona and Madrid seem to be on the higher end of pricing. \n",
    "Valencia has significantly less listings than the other two cities. "
   ]
  },
  {
   "cell_type": "code",
   "execution_count": 84,
   "metadata": {
    "colab": {
     "base_uri": "https://localhost:8080/",
     "height": 408
    },
    "colab_type": "code",
    "id": "qjpV67fTyY2n",
    "outputId": "750bae89-6d9c-4725-c13b-accd3dac2357"
   },
   "outputs": [
    {
     "name": "stdout",
     "output_type": "stream",
     "text": [
      "=====Barcelona Price Buckets=====\n",
      "price\n",
      "(0, 100]      0.757768\n",
      "(100, 200]    0.183109\n",
      "(200, 300]    0.038123\n",
      "(300, 400]    0.015712\n",
      "Name: id, dtype: float64\n",
      "\n",
      "=====Madrid Price Buckets=====\n",
      "price\n",
      "(0, 100]      0.794535\n",
      "(100, 200]    0.150765\n",
      "(200, 300]    0.035074\n",
      "(300, 400]    0.014694\n",
      "Name: id, dtype: float64\n",
      "\n",
      "=====Valencia Price Buckets=====\n",
      "price\n",
      "(0, 100]      0.887139\n",
      "(100, 200]    0.094329\n",
      "(200, 300]    0.013794\n",
      "(300, 400]    0.003901\n",
      "Name: id, dtype: float64\n"
     ]
    }
   ],
   "source": [
    "bc_dropped_price = all_cities_dropped_prices[all_cities_dropped_prices.city=='Barcelona']\n",
    "md_dropped_price = all_cities_dropped_prices[all_cities_dropped_prices.city=='Madrid']\n",
    "vc_dropped_price = all_cities_dropped_prices[all_cities_dropped_prices.city=='Valencia']\n",
    "\n",
    "print(\"=====Barcelona Price Buckets=====\")\n",
    "print(bc_dropped_price.groupby(pd.cut(bc_dropped_price['price'], np.arange(0, 500, 100)))['id'].count()/len(bc_dropped_price))\n",
    "print(\"\\n=====Madrid Price Buckets=====\")\n",
    "print(md_dropped_price.groupby(pd.cut(md_dropped_price['price'], np.arange(0, 500, 100)))['id'].count()/len(md_dropped_price))\n",
    "print(\"\\n=====Valencia Price Buckets=====\")\n",
    "print(vc_dropped_price.groupby(pd.cut(vc_dropped_price['price'], np.arange(0, 500, 100)))['id'].count()/len(vc_dropped_price))"
   ]
  },
  {
   "cell_type": "code",
   "execution_count": 85,
   "metadata": {
    "colab": {
     "base_uri": "https://localhost:8080/",
     "height": 462
    },
    "colab_type": "code",
    "id": "YpGaho97vz5c",
    "outputId": "721c1781-e64c-4b2a-8b3b-c10a05ecc994"
   },
   "outputs": [
    {
     "data": {
      "text/plain": [
       "Text(0.5, 1.0, 'Valencia')"
      ]
     },
     "execution_count": 85,
     "metadata": {
      "tags": []
     },
     "output_type": "execute_result"
    },
    {
     "data": {
      "image/png": "[encoded data removed]",
      "text/plain": [
       "<Figure size 1080x504 with 3 Axes>"
      ]
     },
     "metadata": {
      "tags": []
     },
     "output_type": "display_data"
    }
   ],
   "source": [
    "# visualizing the above price buckets using histogram - but with proportions instead of counts\n",
    "fig, ax = plt.subplots(1,3, figsize=(15, 7))\n",
    "\n",
    "hist, bins = np.histogram(bc_dropped_price['price'])\n",
    "ax[0].bar(bins[:-1], hist.astype(np.float32) / hist.sum(), width=(bins[1]-bins[0]), color='red', alpha=0.4)\n",
    "ax[0].set_title('Barcelona')\n",
    "\n",
    "hist, bins = np.histogram(md_dropped_price['price'])\n",
    "ax[1].bar(bins[:-1], hist.astype(np.float32) / hist.sum(), width=(bins[1]-bins[0]), color='blue', alpha=0.4)\n",
    "ax[1].set_title('Madrid')\n",
    "\n",
    "hist, bins = np.histogram(vc_dropped_price['price'])\n",
    "ax[2].bar(bins[:-1], hist.astype(np.float32) / hist.sum(), width=(bins[1]-bins[0]), color='orange', alpha=0.4)\n",
    "ax[2].set_title('Valencia')"
   ]
  },
  {
   "cell_type": "markdown",
   "metadata": {
    "colab_type": "text",
    "id": "znBEylxo4MuT"
   },
   "source": [
    "# Question 2 - Conclusion\n",
    "\n",
    "For all 3 cities of interest, the majority of listings were priced under 500. When outliers above this threshold were dropped, it was found that 75 - 79% of listings price under 100 per night, with the exception of Valencia where 88% of listings are priced under 100. Madrid and Barcelona, both major cities, seem to be more expensive - as seen in Question 1 and here. In Valencia there is more opportunity to find a listing priced more affordably. It should be noted though that Valencia had significantly less listings than the other two cities (which I found odd, as it's a wonderful tourist destination)."
   ]
  },
  {
   "cell_type": "code",
   "execution_count": 0,
   "metadata": {
    "colab": {},
    "colab_type": "code",
    "id": "iVZ_tOpS17vR"
   },
   "outputs": [],
   "source": [
    "all_cities_dropped_prices.to_pickle(main+\"/all_cities_dropped_prices.pkl\")"
   ]
  },
  {
   "cell_type": "markdown",
   "metadata": {
    "colab_type": "text",
    "id": "R7X5YUF0eF77"
   },
   "source": [
    "# Question 3 - Most Expensive Neighbourhoods\n",
    "\n",
    "Where are the most expensive listings in each city? I've decided to answer this question using the dataset I just created, where nightly rates of 500 or more were dropped. We can do a group and aggregate by average price per city:\n",
    "\n"
   ]
  },
  {
   "cell_type": "code",
   "execution_count": 0,
   "metadata": {
    "colab": {},
    "colab_type": "code",
    "id": "ni5BeezzZHJh"
   },
   "outputs": [],
   "source": [
    "all_cities_dropped_prices = pd.read_pickle(main+\"/all_cities_dropped_prices.pkl\")\n",
    "\n",
    "#bc_dropped_price = all_cities_dropped_prices[all_cities_dropped_prices.city=='Barcelona']\n",
    "#md_dropped_price = all_cities_dropped_prices[all_cities_dropped_prices.city=='Madrid']\n",
    "#vc_dropped_price = all_cities_dropped_prices[all_cities_dropped_prices.city=='Valencia']"
   ]
  },
  {
   "cell_type": "code",
   "execution_count": 0,
   "metadata": {
    "colab": {},
    "colab_type": "code",
    "id": "OWLAeGI9ZOmM"
   },
   "outputs": [],
   "source": [
    "def group_prices_by_location(df):\n",
    "    \"\"\"Returns a new dataframe where average 'prices' have been aggregated for each neighbourhood.\n",
    "    A column on how many listings for each neighbourhood is also created.\n",
    "    \n",
    "    df: the dataset containing AirBnB information\n",
    "    \"\"\"\n",
    "\n",
    "    df_agg = pd.DataFrame(data={'mean_price': df.groupby('neighbourhood_cleansed')['price'].mean(),\n",
    "                               'listings_count': df.groupby('neighbourhood_cleansed')['price'].count()})\n",
    "    \n",
    "    df_agg.sort_values(by='mean_price', axis=0, ascending=False, inplace=True)\n",
    "\n",
    "    return df_agg\n",
    "\n",
    "bc_avg_prices = group_prices_by_location(bc_dropped_price)\n",
    "\n",
    "md_avg_prices = group_prices_by_location(md_dropped_price)\n",
    "vc_avg_prices = group_prices_by_location(vc_dropped_price)"
   ]
  },
  {
   "cell_type": "code",
   "execution_count": 0,
   "metadata": {
    "colab": {},
    "colab_type": "code",
    "id": "mfI87zZf8Q8z"
   },
   "outputs": [],
   "source": [
    "# select top 7 neighbourhoods by mean price\n",
    "bc_top_hoods = bc_avg_prices['mean_price'].nlargest(5)\n",
    "md_top_hoods = md_avg_prices['mean_price'].nlargest(5)\n",
    "vc_top_hoods = vc_avg_prices['mean_price'].nlargest(5)"
   ]
  },
  {
   "cell_type": "code",
   "execution_count": 108,
   "metadata": {
    "colab": {
     "base_uri": "https://localhost:8080/",
     "height": 682
    },
    "colab_type": "code",
    "id": "gCiwYJqk5lW6",
    "outputId": "e239bf88-8795-4b88-d3c1-c56c6ff58f62"
   },
   "outputs": [
    {
     "data": {
      "text/plain": [
       "(array([0, 1, 2, 3, 4]), <a list of 5 Text xticklabel objects>)"
      ]
     },
     "execution_count": 108,
     "metadata": {
      "tags": []
     },
     "output_type": "execute_result"
    },
    {
     "data": {
      "image/png": "[encoded data removed]",
      "text/plain": [
       "<Figure size 1512x504 with 3 Axes>"
      ]
     },
     "metadata": {
      "tags": []
     },
     "output_type": "display_data"
    }
   ],
   "source": [
    "plt.figure(figsize=(21,7))\n",
    "\n",
    "axa = plt.subplot(131)\n",
    "axa.set_title('Barcelona - Highest Mean Neighbourhoods')\n",
    "axa.set_ylabel('Mean Listing Price')\n",
    "bc_top_hoods.plot(kind='bar', ax=plt.gca())\n",
    "plt.xticks(rotation=70)\n",
    "\n",
    "axb = plt.subplot(132)\n",
    "axb.set_title('Madrid - Highest Mean Neighbourhoods')\n",
    "md_top_hoods.plot(kind='bar', ax=plt.gca()) \n",
    "plt.xticks(rotation=70)\n",
    "\n",
    "axc = plt.subplot(133)\n",
    "axc.set_title('Valencia - Highest Mean Neighbourhoods')\n",
    "vc_top_hoods.plot(kind='bar', ax=plt.gca())\n",
    "plt.xticks(rotation=70)\n"
   ]
  },
  {
   "cell_type": "code",
   "execution_count": 0,
   "metadata": {
    "colab": {},
    "colab_type": "code",
    "id": "pJwNca7v9Uxk"
   },
   "outputs": [],
   "source": [
    "# selecting data from the dataframes for the top 5 hoods\n",
    "bc_expensive_hoods = bc_dropped_price[bc_dropped_price['neighbourhood_cleansed'].isin(bc_top_hoods.index)]\n",
    "md_expensive_hoods = md_dropped_price[md_dropped_price['neighbourhood_cleansed'].isin(md_top_hoods.index)]\n",
    "vc_expensive_hoods = vc_dropped_price[vc_dropped_price['neighbourhood_cleansed'].isin(vc_top_hoods.index)]"
   ]
  },
  {
   "cell_type": "code",
   "execution_count": 113,
   "metadata": {
    "colab": {
     "base_uri": "https://localhost:8080/",
     "height": 517
    },
    "colab_type": "code",
    "id": "8GL-Z7ua94Ae",
    "outputId": "295b6820-288f-4a7c-a88c-8a026d716e65"
   },
   "outputs": [
    {
     "data": {
      "text/plain": [
       "<matplotlib.axes._subplots.AxesSubplot at 0x7f4a73776710>"
      ]
     },
     "execution_count": 113,
     "metadata": {
      "tags": []
     },
     "output_type": "execute_result"
    },
    {
     "data": {
      "image/png": "[encoded data removed]",
      "text/plain": [
       "<Figure size 1080x576 with 3 Axes>"
      ]
     },
     "metadata": {
      "tags": []
     },
     "output_type": "display_data"
    }
   ],
   "source": [
    "plt.figure(figsize=(15,8))\n",
    "axa = plt.subplot(131)\n",
    "axa.set_title('Barcelona Avg Price by Neighbourhoods')\n",
    "bc_avg_prices['mean_price'].hist(alpha=0.4, bins=10)\n",
    "\n",
    "axb = plt.subplot(132)\n",
    "axb.set_title('Madrid Avg Price by Neighbourhoods')\n",
    "md_avg_prices['mean_price'].hist(alpha=0.4, bins=10)\n",
    "\n",
    "axc = plt.subplot(133)\n",
    "axc.set_title('Valencia Avg Price by Neighbourhoods')\n",
    "vc_avg_prices['mean_price'].hist(alpha=0.4, bins=10)"
   ]
  },
  {
   "cell_type": "markdown",
   "metadata": {
    "colab_type": "text",
    "id": "_R6Z3Ri5h2rA"
   },
   "source": [
    "Average neighbourhood price distributions for all 3 cities experience skewness, with higher proportions of listings appearing on the left-side of the plot. In Valencia, nearly 40% of the neighbourhoods have an average listing price anywhere between $50 and 60 a night. In Madrid, nearly 35% of the neighbourhoods have an average listing price in a higher bin at 70 to 80. \n",
    "\n",
    "Barcelona's average neighbourhood prices don't reach as high proportions. In Barcelona's histogram, we can see how it results in being the more expensive of the 3 cities, with 4% of its neighbourhoods averaging over $120 a night. In the other two cities, there are higher average reached but the proportion of neighbourhoods are not as high. One can argue that Valencia would be a good destination to look into for higher priced, luxury listings - though there will not be as many options as one might find in Barcelona."
   ]
  },
  {
   "cell_type": "code",
   "execution_count": 106,
   "metadata": {
    "colab": {
     "base_uri": "https://localhost:8080/",
     "height": 642
    },
    "colab_type": "code",
    "id": "DZ3ShIS9eFHK",
    "outputId": "bd1dfe97-da0e-41d7-e20d-7302172fde3e"
   },
   "outputs": [
    {
     "data": {
      "text/plain": [
       "<matplotlib.axes._subplots.AxesSubplot at 0x7f4a73f9bac8>"
      ]
     },
     "execution_count": 106,
     "metadata": {
      "tags": []
     },
     "output_type": "execute_result"
    },
    {
     "data": {
      "image/png": "[encoded data removed]",
      "text/plain": [
       "<Figure size 1296x720 with 12 Axes>"
      ]
     },
     "metadata": {
      "tags": []
     },
     "output_type": "display_data"
    }
   ],
   "source": [
    "# visualizing locations using longitude and latitude\n",
    "# first column of the subplot will scatterplot listing lat-long coordinates and colour by price\n",
    "# second column of the subplot will scatterplot listings from the Most Expensive hoods and colour by price\n",
    "# third column will provide a histogram for neighbourhood counts by average price listing\n",
    "\n",
    "plt.figure(figsize=(18, 10))\n",
    "ax1 = plt.subplot(231)\n",
    "ax1.set_title('Barcelona')\n",
    "bc_dropped_price.plot.scatter(x=\"longitude\", y=\"latitude\", alpha=0.4,\n",
    "            c=\"price\", cmap=plt.get_cmap(\"jet\"), colorbar=True,ax=plt.gca())\n",
    "\n",
    "\n",
    "ax2 = plt.subplot(232)\n",
    "ax2.set_title('Madrid')\n",
    "md_dropped_price.plot(kind=\"scatter\", x=\"longitude\", y=\"latitude\", alpha=0.4,\n",
    "            c=\"price\", cmap=plt.get_cmap(\"jet\"), colorbar=True, ax=plt.gca())\n",
    "\n",
    "\n",
    "ax3 = plt.subplot(233)\n",
    "ax3.set_title('Valencia')\n",
    "vc_dropped_price.plot(kind=\"scatter\", x=\"longitude\", y=\"latitude\", alpha=0.4,\n",
    "            c=\"price\", cmap=plt.get_cmap(\"jet\"), colorbar=True, ax=plt.gca())\n",
    "\n",
    "\n",
    "ax4 = plt.subplot(234)\n",
    "ax4.set_title('Barcelona - Highest Avg Prices')\n",
    "bc_expensive_hoods.plot(kind=\"scatter\", x=\"longitude\", y=\"latitude\", alpha=0.4,\n",
    "            c=\"price\", cmap=plt.get_cmap(\"seismic\"), colorbar=True, ax=plt.gca())\n",
    "\n",
    "ax5 = plt.subplot(235)\n",
    "ax5.set_title('Madrid - Highest Avg Prices')\n",
    "md_expensive_hoods.plot(kind=\"scatter\", x=\"longitude\", y=\"latitude\", alpha=0.4,\n",
    "            c=\"price\", cmap=plt.get_cmap(\"seismic\"), colorbar=True, ax=plt.gca())\n",
    "\n",
    "ax6 = plt.subplot(236)\n",
    "ax6.set_title('Valencia - Highest Avg Prices')\n",
    "vc_expensive_hoods.plot(kind=\"scatter\", x=\"longitude\", y=\"latitude\", alpha=0.4,\n",
    "            c=\"price\", cmap=plt.get_cmap(\"seismic\"), colorbar=True, ax=plt.gca())\n",
    "\n"
   ]
  },
  {
   "cell_type": "markdown",
   "metadata": {
    "colab_type": "text",
    "id": "fBt-CRSL7XOM"
   },
   "source": [
    "# Question 3 - Conclusion\n",
    "In the above scatter plots, I have visualized the listings by their latitude and longitudinal coordinates and coloured the points by price (under $500, as I am using the dropped prices dataset created earlier). The top row visualizes all neighbourhoods, coloured by price. The second row is a visualization of the listings in the neighbourhoods with the 5 highest average listing price. \n",
    "\n",
    "In Barcelona, these highest averaging hoods are clustered in the 3 distinct groups, with the highest priced properties scattered on the outskirts of the city. The 3 distinct groups appear to be on the waterfront of the city (if you are familiar with Barcelona's geography). These properties are likey in the historic districts of the city, or in the more modern luxury properties that overlook the Mediterranean. \n",
    "\n",
    "In Madrid, it appears the highest average hoods lie on the outskirts of the city centre. I am surprised to find this, as I previously supposed the highest valued listings would be in the city's bustling historic core. Perhaps there are luxury properties and estates outside of this core that are attractive to business-oriented, affluent, travellers.\n",
    "\n",
    "In Valencia, expensive listings seem to be relatively sparse. Some dense clustering of expensive properties occur on the perimeters of the supposed city core. This city is located on a stretch of beautiful natural beaches, so it would be only fair to assume that these more expensive listings are beach get-aways or luxury destinations. "
   ]
  },
  {
   "cell_type": "markdown",
   "metadata": {
    "colab_type": "text",
    "id": "pVtoviY3XDNI"
   },
   "source": [
    "# Handling Data for Question 4 - What Features Influence Prices in All Cities?\n",
    "\n",
    "What features can be detected as contributing to a listing's price? This is a regression problem - I will create a linear model wherein I predict a listing's price based on the independent X variables. I hope to achieve a model which is able to explain as much of the variance between my predicted values and the observed ones in the dataset. Before I can begin, however, I must clean the data so that it is able to be fed into a Regression model.\n",
    "    \n",
    "    Order of Operations:\n",
    "        - Drop redundant, problematic, or excess features\n",
    "        - Deal with missing values\n",
    "        - Ensure numerical features are able to be used\n",
    "        - Deal with categorical features accordingly\n",
    "        - Imputation & Standardization (scaling)\n",
    "        - Modelling\n",
    "        - Predicting\n",
    "        - Conclusion\n",
    "\n",
    "## Dropping Redundant, Problematic or Excess Features\n",
    "The listings are combined into one dataset, and the 'city' feature contains either 'Madrid', 'Barcelona', or 'Valencia'. This is easier to do than working with 3 separate datasets at a time. This also ensures that uniform  preprocessing & transformations are conducted on all listings.\n",
    "\n",
    "The dataset contains many fields that are text information (neighbourhood_overview, name, description, interactions, access, etc..).\n",
    "\n",
    "While this provides the opportunity to create NLP-based features (POS, count vectors, tfidf-scores etc.), we will not explore this domain for brevity's sake. \n",
    "\n",
    "Therefore, I made the decision to closely examine these text-based features and discard those that can not be categorized easily. \n",
    "\n",
    "In addition to the text-heavy features I don't want to parse, I have also made the decision to drop some numerical features that seemed redundant for the analyses I will be conducitng (for example, Maximum_maximum_nights/maximum_minimum_nights, scraping_dates & host info seemed excessive to include).\n"
   ]
  },
  {
   "cell_type": "code",
   "execution_count": 0,
   "metadata": {
    "colab": {},
    "colab_type": "code",
    "id": "94fLAzfwGYgj"
   },
   "outputs": [],
   "source": [
    "def drop_columns(df):\n",
    "    \"\"\"Returns a dataframe in which the irrelevant feature columns have been dropped.\n",
    "    df: Pandas DataFrame, a dataframe containing all AirBnB listings data.\n",
    "    \"\"\"\n",
    "    \n",
    "    droplist_1 = ['name', 'summary', 'space', 'scrape_id', 'host_id', 'description', 'neighborhood_overview', 'notes', 'transit', 'access',\n",
    "        'interaction', 'host_name', 'host_listings_count', 'is_location_exact', 'host_about', 'host_verifications', \n",
    "        'host_neighbourhood', 'host_location', 'house_rules', 'street', 'calendar_last_scraped', 'last_scraped','country_code',\n",
    "        'country', 'zipcode', 'state', 'market', 'smart_location', 'zipcode', 'host_has_profile_pic', \n",
    "        'host_identity_verified', 'neighbourhood_group_cleansed', 'neighbourhood', 'latitude', 'longitude',\n",
    "        'minimum_minimum_nights', 'maximum_minimum_nights', 'minimum_maximum_nights', \n",
    "        'maximum_maximum_nights', 'calendar_updated', 'number_of_reviews', 'calendar_updated', \n",
    "        'calculated_host_listings_count', 'calculated_host_listings_count_entire_homes', \n",
    "        'calculated_host_listings_count_private_rooms', 'calculated_host_listings_count_shared_rooms',\n",
    "        'require_guest_phone_verification', 'require_guest_profile_picture'\n",
    "        ]\n",
    "        \n",
    "    df.drop(labels=droplist_1, axis=1, inplace=True)\n",
    "\n",
    "    # remove columns that contain urls - these are not relevant\n",
    "    url_cols = [col for col in df.columns if col.endswith('url')]\n",
    "    df.drop(labels=url_cols, axis=1, inplace=True)\n",
    "\n",
    "    # remove columns where there is no variability\n",
    "    only_one_value = [col for col in df.columns if len(df[col].unique()) == 1]\n",
    "    df.drop(labels=only_one_value, axis=1, inplace=True)\n",
    "    print('Dropped {} Columns'.format(len(droplist_1)+len(url_cols)+len(only_one_value)))\n",
    "\n",
    "    return df"
   ]
  },
  {
   "cell_type": "code",
   "execution_count": 115,
   "metadata": {
    "colab": {
     "base_uri": "https://localhost:8080/",
     "height": 34
    },
    "colab_type": "code",
    "id": "ospNhhC9Mb2t",
    "outputId": "ee8ab01b-1d70-4f1e-d8ba-cd672b75b111"
   },
   "outputs": [
    {
     "name": "stdout",
     "output_type": "stream",
     "text": [
      "Dropped 62 Columns\n"
     ]
    }
   ],
   "source": [
    "all_cities_dropped_cols = drop_columns(all_cities_dropped_prices)"
   ]
  },
  {
   "cell_type": "markdown",
   "metadata": {
    "colab_type": "text",
    "id": "_EVnQuJc96x4"
   },
   "source": [
    "## Dealing with Missing Values\n",
    "\n",
    "It appears that missing values in this dataset appear consistently as NaN values. So we will not need to do additional legwork in re-encoding these to the proper format. \n",
    "Below, I have found the percentage of NaN values per columns and sorted columns by percentage. There are clear outlier columns: \n",
    "\n",
    "    square_feet - 98%\n",
    "    monthly_price - 93%\n",
    "    weekly_price - 93%\n",
    "    license - 61%\n",
    "\n",
    "Conducting analyses with these features is not ideal. So  I have decided to drop them now.\n",
    "\n",
    "In total, we have 22 columns where there are missing values. 18 of these columns have over 10% of their values missing."
   ]
  },
  {
   "cell_type": "code",
   "execution_count": 116,
   "metadata": {
    "colab": {
     "base_uri": "https://localhost:8080/",
     "height": 408
    },
    "colab_type": "code",
    "id": "b_8yPNkY7tHR",
    "outputId": "8ec85fd4-f583-4aab-dd0c-cafadd008953"
   },
   "outputs": [
    {
     "data": {
      "text/plain": [
       "square_feet                    0.980\n",
       "weekly_price                   0.925\n",
       "monthly_price                  0.925\n",
       "license                        0.609\n",
       "security_deposit               0.303\n",
       "cleaning_fee                   0.218\n",
       "review_scores_accuracy         0.203\n",
       "review_scores_rating           0.203\n",
       "review_scores_cleanliness      0.203\n",
       "review_scores_checkin          0.203\n",
       "review_scores_communication    0.203\n",
       "review_scores_location         0.203\n",
       "review_scores_value            0.203\n",
       "reviews_per_month              0.190\n",
       "last_review                    0.190\n",
       "first_review                   0.190\n",
       "host_response_rate             0.146\n",
       "host_response_time             0.146\n",
       "beds                           0.002\n",
       "host_is_superhost              0.001\n",
       "host_total_listings_count      0.001\n",
       "host_since                     0.001\n",
       "dtype: float64"
      ]
     },
     "execution_count": 116,
     "metadata": {
      "tags": []
     },
     "output_type": "execute_result"
    }
   ],
   "source": [
    "round(all_cities_dropped_cols.isnull().sum()/len(all_cities_dropped_cols), 3).sort_values(ascending=False).head(22)"
   ]
  },
  {
   "cell_type": "code",
   "execution_count": 117,
   "metadata": {
    "colab": {
     "base_uri": "https://localhost:8080/",
     "height": 34
    },
    "colab_type": "code",
    "id": "xxTV3D5wAD3k",
    "outputId": "0f1050dd-ded0-4af8-8dff-5b398c4cf2d5"
   },
   "outputs": [
    {
     "data": {
      "text/plain": [
       "(46906, 42)"
      ]
     },
     "execution_count": 117,
     "metadata": {
      "tags": []
     },
     "output_type": "execute_result"
    }
   ],
   "source": [
    "all_cities_dropped_cols.drop(labels=['square_feet', 'monthly_price', 'weekly_price', 'license'], axis=1, inplace=True)\n",
    "all_cities_dropped_cols.shape"
   ]
  },
  {
   "cell_type": "markdown",
   "metadata": {
    "colab_type": "text",
    "id": "_dDYAcFI_Y-s"
   },
   "source": [
    "We should also check the records of the dataset for rows in which most column values are missing. A listing is only useful in my experiment if it has comprehensive information to offer. We have ~56 columns. If a listing has NaN values for 50% of those columns, it may not be very useful for us.\n"
   ]
  },
  {
   "cell_type": "code",
   "execution_count": 0,
   "metadata": {
    "colab": {},
    "colab_type": "code",
    "id": "xD54gYvC8wqc"
   },
   "outputs": [],
   "source": [
    "row_nans = pd.DataFrame(all_cities_dropped_cols.isnull().sum(axis=1)/len(all_cities_dropped_cols.columns))"
   ]
  },
  {
   "cell_type": "code",
   "execution_count": 119,
   "metadata": {
    "colab": {
     "base_uri": "https://localhost:8080/",
     "height": 408
    },
    "colab_type": "code",
    "id": "EZ7wrGW_F8hY",
    "outputId": "86abd5f6-a327-44bb-c34e-acd1943b5c13"
   },
   "outputs": [
    {
     "data": {
      "text/plain": [
       "Text(0.5, 1.0, 'Row-wise NaN Value Counts')"
      ]
     },
     "execution_count": 119,
     "metadata": {
      "tags": []
     },
     "output_type": "execute_result"
    },
    {
     "data": {
      "image/png": "[encoded data removed]",
      "text/plain": [
       "<Figure size 576x432 with 1 Axes>"
      ]
     },
     "metadata": {
      "tags": []
     },
     "output_type": "display_data"
    }
   ],
   "source": [
    "row_nans.hist(bins=15, figsize=(8,6))\n",
    "plt.title('Row-wise NaN Value Counts')"
   ]
  },
  {
   "cell_type": "code",
   "execution_count": 0,
   "metadata": {
    "colab": {},
    "colab_type": "code",
    "id": "Uze4VAokur7b"
   },
   "outputs": [],
   "source": [
    "rows_to_keep = row_nans[row_nans[0] < 0.2].index\n",
    "\n",
    "data_pre_clean = all_cities_dropped_cols.loc[rows_to_keep]"
   ]
  },
  {
   "cell_type": "code",
   "execution_count": 121,
   "metadata": {
    "colab": {
     "base_uri": "https://localhost:8080/",
     "height": 34
    },
    "colab_type": "code",
    "id": "69IjeR07oNQx",
    "outputId": "ce54aee0-289d-48ff-8648-7190d9e41e54"
   },
   "outputs": [
    {
     "data": {
      "text/plain": [
       "(37625, 42)"
      ]
     },
     "execution_count": 121,
     "metadata": {
      "tags": []
     },
     "output_type": "execute_result"
    }
   ],
   "source": [
    "data_pre_clean.shape"
   ]
  },
  {
   "cell_type": "code",
   "execution_count": 0,
   "metadata": {
    "colab": {},
    "colab_type": "code",
    "id": "SfSZxhw9GCSi"
   },
   "outputs": [],
   "source": [
    "pd.to_pickle(data_pre_clean, main+'/data_pre_cleaning.pkl')"
   ]
  },
  {
   "cell_type": "markdown",
   "metadata": {
    "colab_type": "text",
    "id": "T1r5Y2mAuieq"
   },
   "source": [
    "## Handling the Numerical Data\n",
    "\n",
    "There are 31 numerical features to inspect and format properly for regression. Some things I need to handle are removing special string characters from columns such as '%' and '$'. Then I will create three new features from datetime objects & the 'amenities' column: \n",
    "\n",
    "1. 'review_span' will be the difference in days between the 'first_review' & 'last_review' date\n",
    "2. 'host_span' will be the difference in days between the 'host_since' date and the current date (which at time of writing is 2019-12-03). \n",
    "3. 'total_listed_amenities' will be the number of amenities the host has provided in the AirBnB listing. \n"
   ]
  },
  {
   "cell_type": "code",
   "execution_count": 124,
   "metadata": {
    "colab": {
     "base_uri": "https://localhost:8080/",
     "height": 343
    },
    "colab_type": "code",
    "id": "1TvZc5pbv0vE",
    "outputId": "1c9d8db2-388b-402b-9095-dbbade35ba5b"
   },
   "outputs": [
    {
     "name": "stdout",
     "output_type": "stream",
     "text": [
      "(37625, 32)\n"
     ]
    },
    {
     "data": {
      "text/html": [
       "<div>\n",
       "<style scoped>\n",
       "    .dataframe tbody tr th:only-of-type {\n",
       "        vertical-align: middle;\n",
       "    }\n",
       "\n",
       "    .dataframe tbody tr th {\n",
       "        vertical-align: top;\n",
       "    }\n",
       "\n",
       "    .dataframe thead th {\n",
       "        text-align: right;\n",
       "    }\n",
       "</style>\n",
       "<table border=\"1\" class=\"dataframe\">\n",
       "  <thead>\n",
       "    <tr style=\"text-align: right;\">\n",
       "      <th></th>\n",
       "      <th>first_review</th>\n",
       "      <th>last_review</th>\n",
       "      <th>host_since</th>\n",
       "      <th>host_response_rate</th>\n",
       "      <th>amenities</th>\n",
       "      <th>accommodates</th>\n",
       "      <th>bathrooms</th>\n",
       "      <th>bedrooms</th>\n",
       "      <th>beds</th>\n",
       "      <th>price</th>\n",
       "      <th>security_deposit</th>\n",
       "      <th>cleaning_fee</th>\n",
       "      <th>guests_included</th>\n",
       "      <th>extra_people</th>\n",
       "      <th>minimum_nights</th>\n",
       "      <th>maximum_nights</th>\n",
       "      <th>minimum_nights_avg_ntm</th>\n",
       "      <th>maximum_nights_avg_ntm</th>\n",
       "      <th>availability_30</th>\n",
       "      <th>availability_60</th>\n",
       "      <th>availability_90</th>\n",
       "      <th>availability_365</th>\n",
       "      <th>number_of_reviews_ltm</th>\n",
       "      <th>review_scores_rating</th>\n",
       "      <th>review_scores_accuracy</th>\n",
       "      <th>review_scores_cleanliness</th>\n",
       "      <th>review_scores_checkin</th>\n",
       "      <th>review_scores_communication</th>\n",
       "      <th>review_scores_location</th>\n",
       "      <th>review_scores_value</th>\n",
       "      <th>reviews_per_month</th>\n",
       "      <th>host_total_listings_count</th>\n",
       "    </tr>\n",
       "  </thead>\n",
       "  <tbody>\n",
       "    <tr>\n",
       "      <th>0</th>\n",
       "      <td>2015-10-10</td>\n",
       "      <td>2015-10-10</td>\n",
       "      <td>2010-01-19</td>\n",
       "      <td>95%</td>\n",
       "      <td>{TV,Internet,Wifi,\"Air conditioning\",\"Wheelcha...</td>\n",
       "      <td>6</td>\n",
       "      <td>1.0</td>\n",
       "      <td>2.0</td>\n",
       "      <td>4.0</td>\n",
       "      <td>130.0</td>\n",
       "      <td>$150.00</td>\n",
       "      <td>$42.00</td>\n",
       "      <td>2</td>\n",
       "      <td>$25.00</td>\n",
       "      <td>3</td>\n",
       "      <td>730</td>\n",
       "      <td>3.0</td>\n",
       "      <td>730.0</td>\n",
       "      <td>0</td>\n",
       "      <td>0</td>\n",
       "      <td>0</td>\n",
       "      <td>251</td>\n",
       "      <td>0</td>\n",
       "      <td>80.0</td>\n",
       "      <td>10.0</td>\n",
       "      <td>10.0</td>\n",
       "      <td>2.0</td>\n",
       "      <td>10.0</td>\n",
       "      <td>10.0</td>\n",
       "      <td>8.0</td>\n",
       "      <td>0.02</td>\n",
       "      <td>47.0</td>\n",
       "    </tr>\n",
       "    <tr>\n",
       "      <th>1</th>\n",
       "      <td>2013-05-27</td>\n",
       "      <td>2019-08-04</td>\n",
       "      <td>2010-01-19</td>\n",
       "      <td>95%</td>\n",
       "      <td>{TV,Internet,Wifi,\"Air conditioning\",\"Wheelcha...</td>\n",
       "      <td>8</td>\n",
       "      <td>2.0</td>\n",
       "      <td>3.0</td>\n",
       "      <td>6.0</td>\n",
       "      <td>60.0</td>\n",
       "      <td>$150.00</td>\n",
       "      <td>$50.00</td>\n",
       "      <td>2</td>\n",
       "      <td>$30.00</td>\n",
       "      <td>1</td>\n",
       "      <td>1125</td>\n",
       "      <td>1.9</td>\n",
       "      <td>1125.0</td>\n",
       "      <td>13</td>\n",
       "      <td>31</td>\n",
       "      <td>43</td>\n",
       "      <td>52</td>\n",
       "      <td>11</td>\n",
       "      <td>85.0</td>\n",
       "      <td>9.0</td>\n",
       "      <td>9.0</td>\n",
       "      <td>9.0</td>\n",
       "      <td>10.0</td>\n",
       "      <td>9.0</td>\n",
       "      <td>8.0</td>\n",
       "      <td>0.21</td>\n",
       "      <td>47.0</td>\n",
       "    </tr>\n",
       "    <tr>\n",
       "      <th>2</th>\n",
       "      <td>2016-05-08</td>\n",
       "      <td>2019-09-08</td>\n",
       "      <td>2010-02-18</td>\n",
       "      <td>100%</td>\n",
       "      <td>{TV,Wifi,Kitchen,\"Paid parking off premises\",E...</td>\n",
       "      <td>2</td>\n",
       "      <td>1.0</td>\n",
       "      <td>1.0</td>\n",
       "      <td>1.0</td>\n",
       "      <td>33.0</td>\n",
       "      <td>$100.00</td>\n",
       "      <td>NaN</td>\n",
       "      <td>1</td>\n",
       "      <td>$10.00</td>\n",
       "      <td>2</td>\n",
       "      <td>1125</td>\n",
       "      <td>2.1</td>\n",
       "      <td>1125.0</td>\n",
       "      <td>3</td>\n",
       "      <td>3</td>\n",
       "      <td>3</td>\n",
       "      <td>3</td>\n",
       "      <td>31</td>\n",
       "      <td>90.0</td>\n",
       "      <td>10.0</td>\n",
       "      <td>9.0</td>\n",
       "      <td>10.0</td>\n",
       "      <td>10.0</td>\n",
       "      <td>9.0</td>\n",
       "      <td>9.0</td>\n",
       "      <td>3.05</td>\n",
       "      <td>2.0</td>\n",
       "    </tr>\n",
       "    <tr>\n",
       "      <th>3</th>\n",
       "      <td>2011-03-15</td>\n",
       "      <td>2019-09-10</td>\n",
       "      <td>2010-03-09</td>\n",
       "      <td>100%</td>\n",
       "      <td>{TV,Internet,Wifi,\"Wheelchair accessible\",Kitc...</td>\n",
       "      <td>6</td>\n",
       "      <td>2.0</td>\n",
       "      <td>3.0</td>\n",
       "      <td>5.0</td>\n",
       "      <td>210.0</td>\n",
       "      <td>$300.00</td>\n",
       "      <td>$80.00</td>\n",
       "      <td>3</td>\n",
       "      <td>$10.00</td>\n",
       "      <td>3</td>\n",
       "      <td>1125</td>\n",
       "      <td>3.1</td>\n",
       "      <td>1125.0</td>\n",
       "      <td>10</td>\n",
       "      <td>33</td>\n",
       "      <td>56</td>\n",
       "      <td>326</td>\n",
       "      <td>17</td>\n",
       "      <td>94.0</td>\n",
       "      <td>10.0</td>\n",
       "      <td>10.0</td>\n",
       "      <td>10.0</td>\n",
       "      <td>10.0</td>\n",
       "      <td>9.0</td>\n",
       "      <td>9.0</td>\n",
       "      <td>0.47</td>\n",
       "      <td>5.0</td>\n",
       "    </tr>\n",
       "    <tr>\n",
       "      <th>4</th>\n",
       "      <td>2010-08-11</td>\n",
       "      <td>2019-09-10</td>\n",
       "      <td>2010-04-14</td>\n",
       "      <td>100%</td>\n",
       "      <td>{TV,Wifi,\"Air conditioning\",Kitchen,\"Smoking a...</td>\n",
       "      <td>2</td>\n",
       "      <td>1.0</td>\n",
       "      <td>1.0</td>\n",
       "      <td>1.0</td>\n",
       "      <td>45.0</td>\n",
       "      <td>NaN</td>\n",
       "      <td>NaN</td>\n",
       "      <td>1</td>\n",
       "      <td>$25.00</td>\n",
       "      <td>1</td>\n",
       "      <td>730</td>\n",
       "      <td>1.0</td>\n",
       "      <td>730.0</td>\n",
       "      <td>10</td>\n",
       "      <td>31</td>\n",
       "      <td>41</td>\n",
       "      <td>77</td>\n",
       "      <td>48</td>\n",
       "      <td>95.0</td>\n",
       "      <td>10.0</td>\n",
       "      <td>10.0</td>\n",
       "      <td>10.0</td>\n",
       "      <td>10.0</td>\n",
       "      <td>10.0</td>\n",
       "      <td>10.0</td>\n",
       "      <td>2.29</td>\n",
       "      <td>1.0</td>\n",
       "    </tr>\n",
       "  </tbody>\n",
       "</table>\n",
       "</div>"
      ],
      "text/plain": [
       "  first_review last_review  ... reviews_per_month host_total_listings_count\n",
       "0   2015-10-10  2015-10-10  ...              0.02                      47.0\n",
       "1   2013-05-27  2019-08-04  ...              0.21                      47.0\n",
       "2   2016-05-08  2019-09-08  ...              3.05                       2.0\n",
       "3   2011-03-15  2019-09-10  ...              0.47                       5.0\n",
       "4   2010-08-11  2019-09-10  ...              2.29                       1.0\n",
       "\n",
       "[5 rows x 32 columns]"
      ]
     },
     "execution_count": 124,
     "metadata": {
      "tags": []
     },
     "output_type": "execute_result"
    }
   ],
   "source": [
    "number_cols = ['first_review', 'last_review', 'host_since', 'host_response_rate','amenities',\n",
    "                   'accommodates', 'bathrooms', 'bedrooms', 'beds', 'price', 'security_deposit', 'cleaning_fee', \n",
    "                   'guests_included', 'extra_people', 'minimum_nights', 'maximum_nights', 'minimum_nights_avg_ntm', \n",
    "                   'maximum_nights_avg_ntm', 'availability_30', 'availability_60', 'availability_90', 'availability_365', \n",
    "                   'number_of_reviews_ltm', 'review_scores_rating', 'review_scores_accuracy', 'review_scores_cleanliness', \n",
    "                   'review_scores_checkin','review_scores_communication','review_scores_location', 'review_scores_value', \n",
    "                   'reviews_per_month', 'host_total_listings_count']\n",
    "\n",
    "numerical_data = data_pre_clean[number_cols]\n",
    "print(numerical_data.shape)\n",
    "\n",
    "numerical_data.head()"
   ]
  },
  {
   "cell_type": "code",
   "execution_count": 0,
   "metadata": {
    "colab": {},
    "colab_type": "code",
    "id": "AmUqkgwzTH0K"
   },
   "outputs": [],
   "source": [
    "# create new feature: total_amenities_listed\n",
    "def count_total_amenities(amstring):\n",
    "    \"\"\"Returns the count of amenities found in an AirBnB listing.\n",
    "    \n",
    "    amstring: str, a list or set of AirBnB amenities formatted as a string type\n",
    "    \"\"\"\n",
    "    return len(amstring.split(','))\n",
    "\n",
    "numerical_data['total_listed_amenities'] = numerical_data['amenities'].apply(count_total_amenities)\n",
    "numerical_data.drop('amenities', axis=1, inplace=True)"
   ]
  },
  {
   "cell_type": "code",
   "execution_count": 126,
   "metadata": {
    "colab": {
     "base_uri": "https://localhost:8080/",
     "height": 34
    },
    "colab_type": "code",
    "id": "WepwRXYq67Q0",
    "outputId": "465f5d95-ed4b-42e5-98e3-69c5f2e8ea02"
   },
   "outputs": [
    {
     "name": "stdout",
     "output_type": "stream",
     "text": [
      "(37625, 31)\n"
     ]
    }
   ],
   "source": [
    "#handle remaining special string characters - $ and %\n",
    "for col in ('security_deposit', 'cleaning_fee', 'extra_people'):\n",
    "    numerical_data[col] = numerical_data[col].str.replace('[^0-9\\.]', '').astype(float)\n",
    "\n",
    "numerical_data['host_response_rate'] = numerical_data['host_response_rate'].str.replace('\\%', '').astype(float)\n",
    "\n",
    "# create new features: host_span & review_span. These will indicate how many days\n",
    "# the host has been on AirBnB, and how many days between the review dates has passed.\n",
    "from datetime import date\n",
    "numerical_data['review_span'] = (pd.to_datetime(numerical_data['last_review']) - pd.to_datetime(numerical_data['first_review']))/np.timedelta64(1, 'D')\n",
    "numerical_data['host_span'] = (pd.to_datetime(date.today()) - pd.to_datetime(numerical_data['host_since']))/np.timedelta64(1, 'D')\n",
    "\n",
    "numerical_data.drop(labels = ['first_review', 'last_review', 'host_since'],axis=1 , inplace=True)\n",
    "print(numerical_data.shape)"
   ]
  },
  {
   "cell_type": "markdown",
   "metadata": {
    "colab_type": "text",
    "id": "4TNVNgtIvcTe"
   },
   "source": [
    "## Dealing with Categorical Features (incl. Binary)\n",
    "\n",
    "There are several columns here that cannot be used in the modelling I wish to perform - given that they contain non-numerical data. So I'll write a function to take care of these fields:\n",
    "\n",
    "    1. property_type\n",
    "    2. room_type\n",
    "    3. bed_type\n",
    "    4. host_response_time\n",
    "    5. neighbourhood_cleansed\n",
    "    6. cancellation_policy\n",
    "    7. cities\n",
    "\n",
    "I would like to understand most important features later on when I run a regression, and in the event that a particular neighbourhood, property or room type influence pricing - I would like to know which one. \n",
    "\n",
    "For this reason, I will One-Hot Encode all the categorical features, except 'host_response_time' - which contains Null Values and will not work with the Scikit-learn encoding function.\n",
    "\n",
    "My dataset also has 'host_is_superhost', and 'instant_bookable' which I will encode to numeric binary values.\n",
    "\n"
   ]
  },
  {
   "cell_type": "code",
   "execution_count": 0,
   "metadata": {
    "colab": {},
    "colab_type": "code",
    "id": "IL1Uq6oavTt7"
   },
   "outputs": [],
   "source": [
    "cat_feats = data_pre_clean[['city','host_is_superhost', 'instant_bookable','property_type', 'room_type', 'bed_type', \n",
    "                              'host_response_time', 'neighbourhood_cleansed', 'cancellation_policy']]"
   ]
  },
  {
   "cell_type": "code",
   "execution_count": 128,
   "metadata": {
    "colab": {
     "base_uri": "https://localhost:8080/",
     "height": 204
    },
    "colab_type": "code",
    "id": "a89CDRdEzYzU",
    "outputId": "b61dbeac-10e4-43be-f915-213f691f9ade"
   },
   "outputs": [
    {
     "data": {
      "text/html": [
       "<div>\n",
       "<style scoped>\n",
       "    .dataframe tbody tr th:only-of-type {\n",
       "        vertical-align: middle;\n",
       "    }\n",
       "\n",
       "    .dataframe tbody tr th {\n",
       "        vertical-align: top;\n",
       "    }\n",
       "\n",
       "    .dataframe thead th {\n",
       "        text-align: right;\n",
       "    }\n",
       "</style>\n",
       "<table border=\"1\" class=\"dataframe\">\n",
       "  <thead>\n",
       "    <tr style=\"text-align: right;\">\n",
       "      <th></th>\n",
       "      <th>city</th>\n",
       "      <th>host_is_superhost</th>\n",
       "      <th>instant_bookable</th>\n",
       "      <th>property_type</th>\n",
       "      <th>room_type</th>\n",
       "      <th>bed_type</th>\n",
       "      <th>host_response_time</th>\n",
       "      <th>neighbourhood_cleansed</th>\n",
       "      <th>cancellation_policy</th>\n",
       "    </tr>\n",
       "  </thead>\n",
       "  <tbody>\n",
       "    <tr>\n",
       "      <th>0</th>\n",
       "      <td>Barcelona</td>\n",
       "      <td>f</td>\n",
       "      <td>f</td>\n",
       "      <td>Apartment</td>\n",
       "      <td>Entire home/apt</td>\n",
       "      <td>Real Bed</td>\n",
       "      <td>within an hour</td>\n",
       "      <td>el Camp de l'Arpa del Clot</td>\n",
       "      <td>flexible</td>\n",
       "    </tr>\n",
       "    <tr>\n",
       "      <th>1</th>\n",
       "      <td>Barcelona</td>\n",
       "      <td>f</td>\n",
       "      <td>t</td>\n",
       "      <td>Apartment</td>\n",
       "      <td>Entire home/apt</td>\n",
       "      <td>Real Bed</td>\n",
       "      <td>within an hour</td>\n",
       "      <td>la Sagrada Família</td>\n",
       "      <td>strict_14_with_grace_period</td>\n",
       "    </tr>\n",
       "    <tr>\n",
       "      <th>2</th>\n",
       "      <td>Barcelona</td>\n",
       "      <td>f</td>\n",
       "      <td>f</td>\n",
       "      <td>Apartment</td>\n",
       "      <td>Private room</td>\n",
       "      <td>Real Bed</td>\n",
       "      <td>within a few hours</td>\n",
       "      <td>el Poblenou</td>\n",
       "      <td>moderate</td>\n",
       "    </tr>\n",
       "    <tr>\n",
       "      <th>3</th>\n",
       "      <td>Barcelona</td>\n",
       "      <td>t</td>\n",
       "      <td>t</td>\n",
       "      <td>Apartment</td>\n",
       "      <td>Entire home/apt</td>\n",
       "      <td>Real Bed</td>\n",
       "      <td>within an hour</td>\n",
       "      <td>el Besòs i el Maresme</td>\n",
       "      <td>strict_14_with_grace_period</td>\n",
       "    </tr>\n",
       "    <tr>\n",
       "      <th>4</th>\n",
       "      <td>Barcelona</td>\n",
       "      <td>t</td>\n",
       "      <td>t</td>\n",
       "      <td>Apartment</td>\n",
       "      <td>Private room</td>\n",
       "      <td>Real Bed</td>\n",
       "      <td>within an hour</td>\n",
       "      <td>la Vila de Gràcia</td>\n",
       "      <td>strict_14_with_grace_period</td>\n",
       "    </tr>\n",
       "  </tbody>\n",
       "</table>\n",
       "</div>"
      ],
      "text/plain": [
       "        city  ...          cancellation_policy\n",
       "0  Barcelona  ...                     flexible\n",
       "1  Barcelona  ...  strict_14_with_grace_period\n",
       "2  Barcelona  ...                     moderate\n",
       "3  Barcelona  ...  strict_14_with_grace_period\n",
       "4  Barcelona  ...  strict_14_with_grace_period\n",
       "\n",
       "[5 rows x 9 columns]"
      ]
     },
     "execution_count": 128,
     "metadata": {
      "tags": []
     },
     "output_type": "execute_result"
    }
   ],
   "source": [
    "cat_feats.head()"
   ]
  },
  {
   "cell_type": "code",
   "execution_count": 0,
   "metadata": {
    "colab": {},
    "colab_type": "code",
    "id": "smlkpaq7vSic"
   },
   "outputs": [],
   "source": [
    "def convert_binary_feats(df, col):\n",
    "    \"\"\"Maps numerical value to non-numerical categories where the category type is binary\n",
    "    df: Pandas DataFrame, dataframe containing binary features\n",
    "    col: str, the name of the columns containing binary features\n",
    "    \"\"\"\n",
    "    df[col] = df[col].map({'t':1, 'f':0})\n",
    "    return df[col]\n",
    "\n",
    "for col in ('host_is_superhost', 'instant_bookable'):\n",
    "    cat_feats[col] = convert_binary_feats(cat_feats, col)"
   ]
  },
  {
   "cell_type": "code",
   "execution_count": 130,
   "metadata": {
    "colab": {
     "base_uri": "https://localhost:8080/",
     "height": 34
    },
    "colab_type": "code",
    "id": "WhxN6ZVqzdCU",
    "outputId": "2fbd737f-7fcd-4e9f-9622-9f9be0fe5768"
   },
   "outputs": [
    {
     "data": {
      "text/plain": [
       "(37625, 9)"
      ]
     },
     "execution_count": 130,
     "metadata": {
      "tags": []
     },
     "output_type": "execute_result"
    }
   ],
   "source": [
    "cat_feats.shape"
   ]
  },
  {
   "cell_type": "code",
   "execution_count": 131,
   "metadata": {
    "colab": {
     "base_uri": "https://localhost:8080/",
     "height": 170
    },
    "colab_type": "code",
    "id": "32BveMu57wUL",
    "outputId": "fb076cc5-3a76-4c5b-cc33-19f03c957c01"
   },
   "outputs": [
    {
     "name": "stdout",
     "output_type": "stream",
     "text": [
      "city 3\n",
      "host_is_superhost 3\n",
      "instant_bookable 2\n",
      "property_type 33\n",
      "room_type 4\n",
      "bed_type 5\n",
      "host_response_time 5\n",
      "neighbourhood_cleansed 282\n",
      "cancellation_policy 6\n"
     ]
    }
   ],
   "source": [
    "for col in cat_feats.columns:\n",
    "    print(col, len(cat_feats[col].unique()))"
   ]
  },
  {
   "cell_type": "code",
   "execution_count": 132,
   "metadata": {
    "colab": {
     "base_uri": "https://localhost:8080/",
     "height": 204
    },
    "colab_type": "code",
    "id": "YKaG7UGtBFYd",
    "outputId": "1438f392-5fa9-4d42-d55d-f4d80cb3b35e"
   },
   "outputs": [
    {
     "data": {
      "text/html": [
       "<div>\n",
       "<style scoped>\n",
       "    .dataframe tbody tr th:only-of-type {\n",
       "        vertical-align: middle;\n",
       "    }\n",
       "\n",
       "    .dataframe tbody tr th {\n",
       "        vertical-align: top;\n",
       "    }\n",
       "\n",
       "    .dataframe thead th {\n",
       "        text-align: right;\n",
       "    }\n",
       "</style>\n",
       "<table border=\"1\" class=\"dataframe\">\n",
       "  <thead>\n",
       "    <tr style=\"text-align: right;\">\n",
       "      <th></th>\n",
       "      <th>city</th>\n",
       "      <th>host_is_superhost</th>\n",
       "      <th>instant_bookable</th>\n",
       "      <th>property_type</th>\n",
       "      <th>room_type</th>\n",
       "      <th>bed_type</th>\n",
       "      <th>host_response_time</th>\n",
       "      <th>neighbourhood_cleansed</th>\n",
       "      <th>cancellation_policy</th>\n",
       "    </tr>\n",
       "  </thead>\n",
       "  <tbody>\n",
       "    <tr>\n",
       "      <th>0</th>\n",
       "      <td>Barcelona</td>\n",
       "      <td>0.0</td>\n",
       "      <td>0</td>\n",
       "      <td>Apartment</td>\n",
       "      <td>Entire home/apt</td>\n",
       "      <td>Real Bed</td>\n",
       "      <td>within an hour</td>\n",
       "      <td>el Camp de l'Arpa del Clot</td>\n",
       "      <td>flexible</td>\n",
       "    </tr>\n",
       "    <tr>\n",
       "      <th>1</th>\n",
       "      <td>Barcelona</td>\n",
       "      <td>0.0</td>\n",
       "      <td>1</td>\n",
       "      <td>Apartment</td>\n",
       "      <td>Entire home/apt</td>\n",
       "      <td>Real Bed</td>\n",
       "      <td>within an hour</td>\n",
       "      <td>la Sagrada Família</td>\n",
       "      <td>strict_14_with_grace_period</td>\n",
       "    </tr>\n",
       "    <tr>\n",
       "      <th>2</th>\n",
       "      <td>Barcelona</td>\n",
       "      <td>0.0</td>\n",
       "      <td>0</td>\n",
       "      <td>Apartment</td>\n",
       "      <td>Private room</td>\n",
       "      <td>Real Bed</td>\n",
       "      <td>within a few hours</td>\n",
       "      <td>el Poblenou</td>\n",
       "      <td>moderate</td>\n",
       "    </tr>\n",
       "    <tr>\n",
       "      <th>3</th>\n",
       "      <td>Barcelona</td>\n",
       "      <td>1.0</td>\n",
       "      <td>1</td>\n",
       "      <td>Apartment</td>\n",
       "      <td>Entire home/apt</td>\n",
       "      <td>Real Bed</td>\n",
       "      <td>within an hour</td>\n",
       "      <td>el Besòs i el Maresme</td>\n",
       "      <td>strict_14_with_grace_period</td>\n",
       "    </tr>\n",
       "    <tr>\n",
       "      <th>4</th>\n",
       "      <td>Barcelona</td>\n",
       "      <td>1.0</td>\n",
       "      <td>1</td>\n",
       "      <td>Apartment</td>\n",
       "      <td>Private room</td>\n",
       "      <td>Real Bed</td>\n",
       "      <td>within an hour</td>\n",
       "      <td>la Vila de Gràcia</td>\n",
       "      <td>strict_14_with_grace_period</td>\n",
       "    </tr>\n",
       "  </tbody>\n",
       "</table>\n",
       "</div>"
      ],
      "text/plain": [
       "        city  ...          cancellation_policy\n",
       "0  Barcelona  ...                     flexible\n",
       "1  Barcelona  ...  strict_14_with_grace_period\n",
       "2  Barcelona  ...                     moderate\n",
       "3  Barcelona  ...  strict_14_with_grace_period\n",
       "4  Barcelona  ...  strict_14_with_grace_period\n",
       "\n",
       "[5 rows x 9 columns]"
      ]
     },
     "execution_count": 132,
     "metadata": {
      "tags": []
     },
     "output_type": "execute_result"
    }
   ],
   "source": [
    "cat_feats.head()"
   ]
  },
  {
   "cell_type": "code",
   "execution_count": 0,
   "metadata": {
    "colab": {},
    "colab_type": "code",
    "id": "Fo0vmTdxDpzJ"
   },
   "outputs": [],
   "source": [
    "from sklearn.preprocessing import OneHotEncoder\n",
    "\n",
    "def encode_feats(df, col):\n",
    "    \"\"\"Applies a OneHotEncoder to a series of categorical data\n",
    "    \n",
    "    df: Pandas DataFrame, dataframe containing categorical features\n",
    "    col: str, the name of the columns containing categorical features\n",
    "    \"\"\"\n",
    "    encodr = OneHotEncoder(sparse=False)\n",
    "    encdd = encodr.fit_transform(np.array(df[col]).reshape(-1,1))\n",
    "    labels = [col.split('_')[0]+'_'+cat.split('_')[1] for cat in encodr.get_feature_names()]\n",
    "    encdd = pd.DataFrame(encdd, columns=labels)\n",
    "    print(f'{encdd.shape[1]} new feature columns created')\n",
    "    return encdd"
   ]
  },
  {
   "cell_type": "code",
   "execution_count": 134,
   "metadata": {
    "colab": {
     "base_uri": "https://localhost:8080/",
     "height": 102
    },
    "colab_type": "code",
    "id": "jAl2gpNtFok2",
    "outputId": "b9174762-f444-4a12-9d76-af49fb8b68f9"
   },
   "outputs": [
    {
     "name": "stdout",
     "output_type": "stream",
     "text": [
      "3 new feature columns created\n",
      "33 new feature columns created\n",
      "6 new feature columns created\n",
      "5 new feature columns created\n",
      "4 new feature columns created\n"
     ]
    }
   ],
   "source": [
    "encoded_dfs = []\n",
    "\n",
    "for col in ('city', 'property_type', 'cancellation_policy', 'bed_type', 'room_type'):\n",
    "    encoded_dfs.append(encode_feats(cat_feats, col))\n",
    "\n",
    "encoded = pd.concat(encoded_dfs, axis=1)"
   ]
  },
  {
   "cell_type": "code",
   "execution_count": 135,
   "metadata": {
    "colab": {
     "base_uri": "https://localhost:8080/",
     "height": 258
    },
    "colab_type": "code",
    "id": "aM8EiiuPzJ_Z",
    "outputId": "9c267ec7-d238-4f0d-d80b-e3d4ca95131b"
   },
   "outputs": [
    {
     "data": {
      "text/html": [
       "<div>\n",
       "<style scoped>\n",
       "    .dataframe tbody tr th:only-of-type {\n",
       "        vertical-align: middle;\n",
       "    }\n",
       "\n",
       "    .dataframe tbody tr th {\n",
       "        vertical-align: top;\n",
       "    }\n",
       "\n",
       "    .dataframe thead th {\n",
       "        text-align: right;\n",
       "    }\n",
       "</style>\n",
       "<table border=\"1\" class=\"dataframe\">\n",
       "  <thead>\n",
       "    <tr style=\"text-align: right;\">\n",
       "      <th></th>\n",
       "      <th>city_Barcelona</th>\n",
       "      <th>city_Madrid</th>\n",
       "      <th>city_Valencia</th>\n",
       "      <th>property_Aparthotel</th>\n",
       "      <th>property_Apartment</th>\n",
       "      <th>property_Barn</th>\n",
       "      <th>property_Bed and breakfast</th>\n",
       "      <th>property_Boat</th>\n",
       "      <th>property_Boutique hotel</th>\n",
       "      <th>property_Bungalow</th>\n",
       "      <th>property_Bus</th>\n",
       "      <th>property_Cabin</th>\n",
       "      <th>property_Camper/RV</th>\n",
       "      <th>property_Casa particular (Cuba)</th>\n",
       "      <th>property_Castle</th>\n",
       "      <th>property_Chalet</th>\n",
       "      <th>property_Condominium</th>\n",
       "      <th>property_Cottage</th>\n",
       "      <th>property_Dome house</th>\n",
       "      <th>property_Earth house</th>\n",
       "      <th>property_Farm stay</th>\n",
       "      <th>property_Guest suite</th>\n",
       "      <th>property_Guesthouse</th>\n",
       "      <th>property_Hostel</th>\n",
       "      <th>property_Hotel</th>\n",
       "      <th>property_House</th>\n",
       "      <th>property_Hut</th>\n",
       "      <th>property_Island</th>\n",
       "      <th>property_Loft</th>\n",
       "      <th>property_Other</th>\n",
       "      <th>property_Serviced apartment</th>\n",
       "      <th>property_Tent</th>\n",
       "      <th>property_Tiny house</th>\n",
       "      <th>property_Townhouse</th>\n",
       "      <th>property_Vacation home</th>\n",
       "      <th>property_Villa</th>\n",
       "      <th>cancellation_flexible</th>\n",
       "      <th>cancellation_moderate</th>\n",
       "      <th>cancellation_strict</th>\n",
       "      <th>cancellation_strict</th>\n",
       "      <th>cancellation_super</th>\n",
       "      <th>cancellation_super</th>\n",
       "      <th>bed_Airbed</th>\n",
       "      <th>bed_Couch</th>\n",
       "      <th>bed_Futon</th>\n",
       "      <th>bed_Pull-out Sofa</th>\n",
       "      <th>bed_Real Bed</th>\n",
       "      <th>room_Entire home/apt</th>\n",
       "      <th>room_Hotel room</th>\n",
       "      <th>room_Private room</th>\n",
       "      <th>room_Shared room</th>\n",
       "    </tr>\n",
       "  </thead>\n",
       "  <tbody>\n",
       "    <tr>\n",
       "      <th>0</th>\n",
       "      <td>1.0</td>\n",
       "      <td>0.0</td>\n",
       "      <td>0.0</td>\n",
       "      <td>0.0</td>\n",
       "      <td>1.0</td>\n",
       "      <td>0.0</td>\n",
       "      <td>0.0</td>\n",
       "      <td>0.0</td>\n",
       "      <td>0.0</td>\n",
       "      <td>0.0</td>\n",
       "      <td>0.0</td>\n",
       "      <td>0.0</td>\n",
       "      <td>0.0</td>\n",
       "      <td>0.0</td>\n",
       "      <td>0.0</td>\n",
       "      <td>0.0</td>\n",
       "      <td>0.0</td>\n",
       "      <td>0.0</td>\n",
       "      <td>0.0</td>\n",
       "      <td>0.0</td>\n",
       "      <td>0.0</td>\n",
       "      <td>0.0</td>\n",
       "      <td>0.0</td>\n",
       "      <td>0.0</td>\n",
       "      <td>0.0</td>\n",
       "      <td>0.0</td>\n",
       "      <td>0.0</td>\n",
       "      <td>0.0</td>\n",
       "      <td>0.0</td>\n",
       "      <td>0.0</td>\n",
       "      <td>0.0</td>\n",
       "      <td>0.0</td>\n",
       "      <td>0.0</td>\n",
       "      <td>0.0</td>\n",
       "      <td>0.0</td>\n",
       "      <td>0.0</td>\n",
       "      <td>1.0</td>\n",
       "      <td>0.0</td>\n",
       "      <td>0.0</td>\n",
       "      <td>0.0</td>\n",
       "      <td>0.0</td>\n",
       "      <td>0.0</td>\n",
       "      <td>0.0</td>\n",
       "      <td>0.0</td>\n",
       "      <td>0.0</td>\n",
       "      <td>0.0</td>\n",
       "      <td>1.0</td>\n",
       "      <td>1.0</td>\n",
       "      <td>0.0</td>\n",
       "      <td>0.0</td>\n",
       "      <td>0.0</td>\n",
       "    </tr>\n",
       "    <tr>\n",
       "      <th>1</th>\n",
       "      <td>1.0</td>\n",
       "      <td>0.0</td>\n",
       "      <td>0.0</td>\n",
       "      <td>0.0</td>\n",
       "      <td>1.0</td>\n",
       "      <td>0.0</td>\n",
       "      <td>0.0</td>\n",
       "      <td>0.0</td>\n",
       "      <td>0.0</td>\n",
       "      <td>0.0</td>\n",
       "      <td>0.0</td>\n",
       "      <td>0.0</td>\n",
       "      <td>0.0</td>\n",
       "      <td>0.0</td>\n",
       "      <td>0.0</td>\n",
       "      <td>0.0</td>\n",
       "      <td>0.0</td>\n",
       "      <td>0.0</td>\n",
       "      <td>0.0</td>\n",
       "      <td>0.0</td>\n",
       "      <td>0.0</td>\n",
       "      <td>0.0</td>\n",
       "      <td>0.0</td>\n",
       "      <td>0.0</td>\n",
       "      <td>0.0</td>\n",
       "      <td>0.0</td>\n",
       "      <td>0.0</td>\n",
       "      <td>0.0</td>\n",
       "      <td>0.0</td>\n",
       "      <td>0.0</td>\n",
       "      <td>0.0</td>\n",
       "      <td>0.0</td>\n",
       "      <td>0.0</td>\n",
       "      <td>0.0</td>\n",
       "      <td>0.0</td>\n",
       "      <td>0.0</td>\n",
       "      <td>0.0</td>\n",
       "      <td>0.0</td>\n",
       "      <td>0.0</td>\n",
       "      <td>1.0</td>\n",
       "      <td>0.0</td>\n",
       "      <td>0.0</td>\n",
       "      <td>0.0</td>\n",
       "      <td>0.0</td>\n",
       "      <td>0.0</td>\n",
       "      <td>0.0</td>\n",
       "      <td>1.0</td>\n",
       "      <td>1.0</td>\n",
       "      <td>0.0</td>\n",
       "      <td>0.0</td>\n",
       "      <td>0.0</td>\n",
       "    </tr>\n",
       "    <tr>\n",
       "      <th>2</th>\n",
       "      <td>1.0</td>\n",
       "      <td>0.0</td>\n",
       "      <td>0.0</td>\n",
       "      <td>0.0</td>\n",
       "      <td>1.0</td>\n",
       "      <td>0.0</td>\n",
       "      <td>0.0</td>\n",
       "      <td>0.0</td>\n",
       "      <td>0.0</td>\n",
       "      <td>0.0</td>\n",
       "      <td>0.0</td>\n",
       "      <td>0.0</td>\n",
       "      <td>0.0</td>\n",
       "      <td>0.0</td>\n",
       "      <td>0.0</td>\n",
       "      <td>0.0</td>\n",
       "      <td>0.0</td>\n",
       "      <td>0.0</td>\n",
       "      <td>0.0</td>\n",
       "      <td>0.0</td>\n",
       "      <td>0.0</td>\n",
       "      <td>0.0</td>\n",
       "      <td>0.0</td>\n",
       "      <td>0.0</td>\n",
       "      <td>0.0</td>\n",
       "      <td>0.0</td>\n",
       "      <td>0.0</td>\n",
       "      <td>0.0</td>\n",
       "      <td>0.0</td>\n",
       "      <td>0.0</td>\n",
       "      <td>0.0</td>\n",
       "      <td>0.0</td>\n",
       "      <td>0.0</td>\n",
       "      <td>0.0</td>\n",
       "      <td>0.0</td>\n",
       "      <td>0.0</td>\n",
       "      <td>0.0</td>\n",
       "      <td>1.0</td>\n",
       "      <td>0.0</td>\n",
       "      <td>0.0</td>\n",
       "      <td>0.0</td>\n",
       "      <td>0.0</td>\n",
       "      <td>0.0</td>\n",
       "      <td>0.0</td>\n",
       "      <td>0.0</td>\n",
       "      <td>0.0</td>\n",
       "      <td>1.0</td>\n",
       "      <td>0.0</td>\n",
       "      <td>0.0</td>\n",
       "      <td>1.0</td>\n",
       "      <td>0.0</td>\n",
       "    </tr>\n",
       "    <tr>\n",
       "      <th>3</th>\n",
       "      <td>1.0</td>\n",
       "      <td>0.0</td>\n",
       "      <td>0.0</td>\n",
       "      <td>0.0</td>\n",
       "      <td>1.0</td>\n",
       "      <td>0.0</td>\n",
       "      <td>0.0</td>\n",
       "      <td>0.0</td>\n",
       "      <td>0.0</td>\n",
       "      <td>0.0</td>\n",
       "      <td>0.0</td>\n",
       "      <td>0.0</td>\n",
       "      <td>0.0</td>\n",
       "      <td>0.0</td>\n",
       "      <td>0.0</td>\n",
       "      <td>0.0</td>\n",
       "      <td>0.0</td>\n",
       "      <td>0.0</td>\n",
       "      <td>0.0</td>\n",
       "      <td>0.0</td>\n",
       "      <td>0.0</td>\n",
       "      <td>0.0</td>\n",
       "      <td>0.0</td>\n",
       "      <td>0.0</td>\n",
       "      <td>0.0</td>\n",
       "      <td>0.0</td>\n",
       "      <td>0.0</td>\n",
       "      <td>0.0</td>\n",
       "      <td>0.0</td>\n",
       "      <td>0.0</td>\n",
       "      <td>0.0</td>\n",
       "      <td>0.0</td>\n",
       "      <td>0.0</td>\n",
       "      <td>0.0</td>\n",
       "      <td>0.0</td>\n",
       "      <td>0.0</td>\n",
       "      <td>0.0</td>\n",
       "      <td>0.0</td>\n",
       "      <td>0.0</td>\n",
       "      <td>1.0</td>\n",
       "      <td>0.0</td>\n",
       "      <td>0.0</td>\n",
       "      <td>0.0</td>\n",
       "      <td>0.0</td>\n",
       "      <td>0.0</td>\n",
       "      <td>0.0</td>\n",
       "      <td>1.0</td>\n",
       "      <td>1.0</td>\n",
       "      <td>0.0</td>\n",
       "      <td>0.0</td>\n",
       "      <td>0.0</td>\n",
       "    </tr>\n",
       "    <tr>\n",
       "      <th>4</th>\n",
       "      <td>1.0</td>\n",
       "      <td>0.0</td>\n",
       "      <td>0.0</td>\n",
       "      <td>0.0</td>\n",
       "      <td>1.0</td>\n",
       "      <td>0.0</td>\n",
       "      <td>0.0</td>\n",
       "      <td>0.0</td>\n",
       "      <td>0.0</td>\n",
       "      <td>0.0</td>\n",
       "      <td>0.0</td>\n",
       "      <td>0.0</td>\n",
       "      <td>0.0</td>\n",
       "      <td>0.0</td>\n",
       "      <td>0.0</td>\n",
       "      <td>0.0</td>\n",
       "      <td>0.0</td>\n",
       "      <td>0.0</td>\n",
       "      <td>0.0</td>\n",
       "      <td>0.0</td>\n",
       "      <td>0.0</td>\n",
       "      <td>0.0</td>\n",
       "      <td>0.0</td>\n",
       "      <td>0.0</td>\n",
       "      <td>0.0</td>\n",
       "      <td>0.0</td>\n",
       "      <td>0.0</td>\n",
       "      <td>0.0</td>\n",
       "      <td>0.0</td>\n",
       "      <td>0.0</td>\n",
       "      <td>0.0</td>\n",
       "      <td>0.0</td>\n",
       "      <td>0.0</td>\n",
       "      <td>0.0</td>\n",
       "      <td>0.0</td>\n",
       "      <td>0.0</td>\n",
       "      <td>0.0</td>\n",
       "      <td>0.0</td>\n",
       "      <td>0.0</td>\n",
       "      <td>1.0</td>\n",
       "      <td>0.0</td>\n",
       "      <td>0.0</td>\n",
       "      <td>0.0</td>\n",
       "      <td>0.0</td>\n",
       "      <td>0.0</td>\n",
       "      <td>0.0</td>\n",
       "      <td>1.0</td>\n",
       "      <td>0.0</td>\n",
       "      <td>0.0</td>\n",
       "      <td>1.0</td>\n",
       "      <td>0.0</td>\n",
       "    </tr>\n",
       "  </tbody>\n",
       "</table>\n",
       "</div>"
      ],
      "text/plain": [
       "   city_Barcelona  city_Madrid  ...  room_Private room  room_Shared room\n",
       "0             1.0          0.0  ...                0.0               0.0\n",
       "1             1.0          0.0  ...                0.0               0.0\n",
       "2             1.0          0.0  ...                1.0               0.0\n",
       "3             1.0          0.0  ...                0.0               0.0\n",
       "4             1.0          0.0  ...                1.0               0.0\n",
       "\n",
       "[5 rows x 51 columns]"
      ]
     },
     "execution_count": 135,
     "metadata": {
      "tags": []
     },
     "output_type": "execute_result"
    }
   ],
   "source": [
    "encoded.head()"
   ]
  },
  {
   "cell_type": "code",
   "execution_count": 136,
   "metadata": {
    "colab": {
     "base_uri": "https://localhost:8080/",
     "height": 51
    },
    "colab_type": "code",
    "id": "yHJ5EvCHr9eF",
    "outputId": "a82744e2-8b79-4273-99d6-1f739ea270a9"
   },
   "outputs": [
    {
     "name": "stdout",
     "output_type": "stream",
     "text": [
      "Encoded 5 categories for host_response_time\n",
      "Encoded 282 categories for neighbourhood_cleansed\n"
     ]
    }
   ],
   "source": [
    "import operator\n",
    "def map_categorical(df, col_name):\n",
    "    \"\"\"Converts categorical data of non-numerical type to type int. \n",
    "    \n",
    "    df: Pandas DataFrame, dataframe containing categorical features\n",
    "    col_name: str, the name of the columns containing categorical features\n",
    "    \"\"\"\n",
    "    cat_map = {v: k for k, v in dict(enumerate(df[col_name].unique())).items()}\n",
    "    df[col_name] = df[col_name].map(cat_map)\n",
    "\n",
    "    cat_map = sorted(cat_map.items(), key=operator.itemgetter(1))\n",
    "    print(f'Encoded {len(cat_map)} categories for {col_name}')\n",
    "    return df[col_name], cat_map\n",
    "\n",
    "cat_feats['host_response_time'], hrt_map = map_categorical(cat_feats, 'host_response_time')\n",
    "cat_feats['neighbourhood_cleansed'], nbr_map = map_categorical(cat_feats, 'neighbourhood_cleansed') # to be used for Question 1"
   ]
  },
  {
   "cell_type": "code",
   "execution_count": 137,
   "metadata": {
    "colab": {
     "base_uri": "https://localhost:8080/",
     "height": 204
    },
    "colab_type": "code",
    "id": "uGXTnCmRuAMQ",
    "outputId": "275c6097-9ce3-49c6-a460-de8bbdc37086"
   },
   "outputs": [
    {
     "data": {
      "text/html": [
       "<div>\n",
       "<style scoped>\n",
       "    .dataframe tbody tr th:only-of-type {\n",
       "        vertical-align: middle;\n",
       "    }\n",
       "\n",
       "    .dataframe tbody tr th {\n",
       "        vertical-align: top;\n",
       "    }\n",
       "\n",
       "    .dataframe thead th {\n",
       "        text-align: right;\n",
       "    }\n",
       "</style>\n",
       "<table border=\"1\" class=\"dataframe\">\n",
       "  <thead>\n",
       "    <tr style=\"text-align: right;\">\n",
       "      <th></th>\n",
       "      <th>city</th>\n",
       "      <th>host_is_superhost</th>\n",
       "      <th>instant_bookable</th>\n",
       "      <th>property_type</th>\n",
       "      <th>room_type</th>\n",
       "      <th>bed_type</th>\n",
       "      <th>host_response_time</th>\n",
       "      <th>neighbourhood_cleansed</th>\n",
       "      <th>cancellation_policy</th>\n",
       "    </tr>\n",
       "  </thead>\n",
       "  <tbody>\n",
       "    <tr>\n",
       "      <th>0</th>\n",
       "      <td>Barcelona</td>\n",
       "      <td>0.0</td>\n",
       "      <td>0</td>\n",
       "      <td>Apartment</td>\n",
       "      <td>Entire home/apt</td>\n",
       "      <td>Real Bed</td>\n",
       "      <td>0</td>\n",
       "      <td>0</td>\n",
       "      <td>flexible</td>\n",
       "    </tr>\n",
       "    <tr>\n",
       "      <th>1</th>\n",
       "      <td>Barcelona</td>\n",
       "      <td>0.0</td>\n",
       "      <td>1</td>\n",
       "      <td>Apartment</td>\n",
       "      <td>Entire home/apt</td>\n",
       "      <td>Real Bed</td>\n",
       "      <td>0</td>\n",
       "      <td>1</td>\n",
       "      <td>strict_14_with_grace_period</td>\n",
       "    </tr>\n",
       "    <tr>\n",
       "      <th>2</th>\n",
       "      <td>Barcelona</td>\n",
       "      <td>0.0</td>\n",
       "      <td>0</td>\n",
       "      <td>Apartment</td>\n",
       "      <td>Private room</td>\n",
       "      <td>Real Bed</td>\n",
       "      <td>1</td>\n",
       "      <td>2</td>\n",
       "      <td>moderate</td>\n",
       "    </tr>\n",
       "    <tr>\n",
       "      <th>3</th>\n",
       "      <td>Barcelona</td>\n",
       "      <td>1.0</td>\n",
       "      <td>1</td>\n",
       "      <td>Apartment</td>\n",
       "      <td>Entire home/apt</td>\n",
       "      <td>Real Bed</td>\n",
       "      <td>0</td>\n",
       "      <td>3</td>\n",
       "      <td>strict_14_with_grace_period</td>\n",
       "    </tr>\n",
       "    <tr>\n",
       "      <th>4</th>\n",
       "      <td>Barcelona</td>\n",
       "      <td>1.0</td>\n",
       "      <td>1</td>\n",
       "      <td>Apartment</td>\n",
       "      <td>Private room</td>\n",
       "      <td>Real Bed</td>\n",
       "      <td>0</td>\n",
       "      <td>4</td>\n",
       "      <td>strict_14_with_grace_period</td>\n",
       "    </tr>\n",
       "  </tbody>\n",
       "</table>\n",
       "</div>"
      ],
      "text/plain": [
       "        city  ...          cancellation_policy\n",
       "0  Barcelona  ...                     flexible\n",
       "1  Barcelona  ...  strict_14_with_grace_period\n",
       "2  Barcelona  ...                     moderate\n",
       "3  Barcelona  ...  strict_14_with_grace_period\n",
       "4  Barcelona  ...  strict_14_with_grace_period\n",
       "\n",
       "[5 rows x 9 columns]"
      ]
     },
     "execution_count": 137,
     "metadata": {
      "tags": []
     },
     "output_type": "execute_result"
    }
   ],
   "source": [
    "cat_feats.head()"
   ]
  },
  {
   "cell_type": "code",
   "execution_count": 138,
   "metadata": {
    "colab": {
     "base_uri": "https://localhost:8080/",
     "height": 34
    },
    "colab_type": "code",
    "id": "PQYBKGwLHwj0",
    "outputId": "f2529d94-277a-489f-c6ae-d641d9b6841f"
   },
   "outputs": [
    {
     "name": "stdout",
     "output_type": "stream",
     "text": [
      "Categorical_data contains 37625 data points & 55 feature columns\n"
     ]
    }
   ],
   "source": [
    "encoded['host_is_superhost'] = cat_feats['host_is_superhost']\n",
    "encoded['host_response_time'] = cat_feats['host_response_time']\n",
    "encoded['instant_bookable'] = cat_feats['instant_bookable']\n",
    "encoded['neighbourhood_encoded'] = cat_feats['neighbourhood_cleansed']\n",
    "categorical_data = encoded\n",
    "print(f'Categorical_data contains {categorical_data.shape[0]} data points &\\\n",
    " {categorical_data.shape[1]} feature columns')"
   ]
  },
  {
   "cell_type": "code",
   "execution_count": 0,
   "metadata": {
    "colab": {},
    "colab_type": "code",
    "id": "ZoOTO_Ushm2Y"
   },
   "outputs": [],
   "source": [
    "categorical_data.reset_index(drop=True, inplace=True)\n",
    "numerical_data.reset_index(drop=True, inplace=True)\n",
    "\n",
    "cleaned_data = pd.concat([categorical_data, numerical_data], axis=1)"
   ]
  },
  {
   "cell_type": "code",
   "execution_count": 0,
   "metadata": {
    "colab": {},
    "colab_type": "code",
    "id": "xYAZBmKPvZif"
   },
   "outputs": [],
   "source": [
    "pd.to_pickle(cleaned_data, main+'/cleaned_data.pkl')"
   ]
  },
  {
   "cell_type": "markdown",
   "metadata": {
    "colab_type": "text",
    "id": "impwCq0fkOx2"
   },
   "source": [
    "# Imputation & Standardization\n",
    "\n",
    "I can now combine the categorical and numerical features into one dataset. The final step before running any predictive analysis on the data will be to normalize. I will be using a scaler provided by Scikit-Learn. For this process I will take the following steps:\n",
    "\n",
    "1. Mask Null values out of the dataset - only use a subset of the data in which no Null values exists\n",
    "2. Fit the Scaler model\n",
    "3. Impute Null values on the true dataset\n",
    "4. Transform the imputed data with our fitted scaler\n",
    "\n",
    "I have selected Scikit-Learn's RobustScaler for standardizing the data. This scaler works well with large datasets that could be prone to outliers. Outliers throughout the dataset can undermine scaling using the mean and variance, therefore it would be more intuitive to use a scaler that scales according to the IQR (inner-quartile range). \n",
    "\n",
    "Below I have plotted some boxplots to show how some numerical feature values might be impacted by outliers. You will see that outliers can have a very large impact on how well the data will be scaled."
   ]
  },
  {
   "cell_type": "code",
   "execution_count": 0,
   "metadata": {
    "colab": {},
    "colab_type": "code",
    "id": "mdlq_m5_0-Qb"
   },
   "outputs": [],
   "source": [
    "cleaned_data = pd.read_pickle(main+'/cleaned_data.pkl')"
   ]
  },
  {
   "cell_type": "code",
   "execution_count": 142,
   "metadata": {
    "colab": {
     "base_uri": "https://localhost:8080/",
     "height": 283
    },
    "colab_type": "code",
    "id": "dkrhK80uvIxN",
    "outputId": "27580bec-1cf8-4f32-a1ab-59fff43acc4e"
   },
   "outputs": [
    {
     "data": {
      "image/png": "[encoded data removed]",
      "text/plain": [
       "<Figure size 432x288 with 1 Axes>"
      ]
     },
     "metadata": {
      "tags": []
     },
     "output_type": "display_data"
    }
   ],
   "source": [
    "import seaborn as sns\n",
    "sns.boxplot(x=\"variable\", y=\"value\", data=pd.melt(cleaned_data[['security_deposit', 'cleaning_fee', 'review_span']]))\n",
    "plt.show()"
   ]
  },
  {
   "cell_type": "code",
   "execution_count": 143,
   "metadata": {
    "colab": {
     "base_uri": "https://localhost:8080/",
     "height": 34
    },
    "colab_type": "code",
    "id": "SCQ3nH2GeYC9",
    "outputId": "07058df8-8057-41a4-bffd-236ece3523ed"
   },
   "outputs": [
    {
     "data": {
      "text/plain": [
       "(20227, 86)"
      ]
     },
     "execution_count": 143,
     "metadata": {
      "tags": []
     },
     "output_type": "execute_result"
    }
   ],
   "source": [
    "data_no_null = cleaned_data.dropna()\n",
    "data_no_null.shape"
   ]
  },
  {
   "cell_type": "code",
   "execution_count": 0,
   "metadata": {
    "colab": {},
    "colab_type": "code",
    "id": "Z3FBemI7jXQC"
   },
   "outputs": [],
   "source": [
    "from sklearn.impute import SimpleImputer\n",
    "from sklearn.preprocessing import RobustScaler\n",
    "\n",
    "imp = SimpleImputer(strategy='mean')\n",
    "\n",
    "imputed_data = imp.fit_transform(cleaned_data)\n",
    "\n",
    "scaler = RobustScaler()\n",
    "\n",
    "fitted_scaler = scaler.fit(data_no_null)\n",
    "\n",
    "scaled_data = pd.DataFrame(fitted_scaler.transform(imputed_data), columns=cleaned_data.columns)"
   ]
  },
  {
   "cell_type": "code",
   "execution_count": 145,
   "metadata": {
    "colab": {
     "base_uri": "https://localhost:8080/",
     "height": 287
    },
    "colab_type": "code",
    "id": "3HP1G4FTYd5y",
    "outputId": "08ff6786-66ad-4a0e-c812-3fa6407e5bc0"
   },
   "outputs": [
    {
     "data": {
      "text/html": [
       "<div>\n",
       "<style scoped>\n",
       "    .dataframe tbody tr th:only-of-type {\n",
       "        vertical-align: middle;\n",
       "    }\n",
       "\n",
       "    .dataframe tbody tr th {\n",
       "        vertical-align: top;\n",
       "    }\n",
       "\n",
       "    .dataframe thead th {\n",
       "        text-align: right;\n",
       "    }\n",
       "</style>\n",
       "<table border=\"1\" class=\"dataframe\">\n",
       "  <thead>\n",
       "    <tr style=\"text-align: right;\">\n",
       "      <th></th>\n",
       "      <th>city_Barcelona</th>\n",
       "      <th>city_Madrid</th>\n",
       "      <th>city_Valencia</th>\n",
       "      <th>property_Aparthotel</th>\n",
       "      <th>property_Apartment</th>\n",
       "      <th>property_Barn</th>\n",
       "      <th>property_Bed and breakfast</th>\n",
       "      <th>property_Boat</th>\n",
       "      <th>property_Boutique hotel</th>\n",
       "      <th>property_Bungalow</th>\n",
       "      <th>property_Bus</th>\n",
       "      <th>property_Cabin</th>\n",
       "      <th>property_Camper/RV</th>\n",
       "      <th>property_Casa particular (Cuba)</th>\n",
       "      <th>property_Castle</th>\n",
       "      <th>property_Chalet</th>\n",
       "      <th>property_Condominium</th>\n",
       "      <th>property_Cottage</th>\n",
       "      <th>property_Dome house</th>\n",
       "      <th>property_Earth house</th>\n",
       "      <th>property_Farm stay</th>\n",
       "      <th>property_Guest suite</th>\n",
       "      <th>property_Guesthouse</th>\n",
       "      <th>property_Hostel</th>\n",
       "      <th>property_Hotel</th>\n",
       "      <th>property_House</th>\n",
       "      <th>property_Hut</th>\n",
       "      <th>property_Island</th>\n",
       "      <th>property_Loft</th>\n",
       "      <th>property_Other</th>\n",
       "      <th>property_Serviced apartment</th>\n",
       "      <th>property_Tent</th>\n",
       "      <th>property_Tiny house</th>\n",
       "      <th>property_Townhouse</th>\n",
       "      <th>property_Vacation home</th>\n",
       "      <th>property_Villa</th>\n",
       "      <th>cancellation_flexible</th>\n",
       "      <th>cancellation_moderate</th>\n",
       "      <th>cancellation_strict</th>\n",
       "      <th>cancellation_strict</th>\n",
       "      <th>...</th>\n",
       "      <th>bed_Real Bed</th>\n",
       "      <th>room_Entire home/apt</th>\n",
       "      <th>room_Hotel room</th>\n",
       "      <th>room_Private room</th>\n",
       "      <th>room_Shared room</th>\n",
       "      <th>host_is_superhost</th>\n",
       "      <th>host_response_time</th>\n",
       "      <th>instant_bookable</th>\n",
       "      <th>neighbourhood_encoded</th>\n",
       "      <th>host_response_rate</th>\n",
       "      <th>accommodates</th>\n",
       "      <th>bathrooms</th>\n",
       "      <th>bedrooms</th>\n",
       "      <th>beds</th>\n",
       "      <th>price</th>\n",
       "      <th>security_deposit</th>\n",
       "      <th>cleaning_fee</th>\n",
       "      <th>guests_included</th>\n",
       "      <th>extra_people</th>\n",
       "      <th>minimum_nights</th>\n",
       "      <th>maximum_nights</th>\n",
       "      <th>minimum_nights_avg_ntm</th>\n",
       "      <th>maximum_nights_avg_ntm</th>\n",
       "      <th>availability_30</th>\n",
       "      <th>availability_60</th>\n",
       "      <th>availability_90</th>\n",
       "      <th>availability_365</th>\n",
       "      <th>number_of_reviews_ltm</th>\n",
       "      <th>review_scores_rating</th>\n",
       "      <th>review_scores_accuracy</th>\n",
       "      <th>review_scores_cleanliness</th>\n",
       "      <th>review_scores_checkin</th>\n",
       "      <th>review_scores_communication</th>\n",
       "      <th>review_scores_location</th>\n",
       "      <th>review_scores_value</th>\n",
       "      <th>reviews_per_month</th>\n",
       "      <th>host_total_listings_count</th>\n",
       "      <th>total_listed_amenities</th>\n",
       "      <th>review_span</th>\n",
       "      <th>host_span</th>\n",
       "    </tr>\n",
       "  </thead>\n",
       "  <tbody>\n",
       "    <tr>\n",
       "      <th>0</th>\n",
       "      <td>1.0</td>\n",
       "      <td>0.0</td>\n",
       "      <td>0.0</td>\n",
       "      <td>0.0</td>\n",
       "      <td>0.0</td>\n",
       "      <td>0.0</td>\n",
       "      <td>0.0</td>\n",
       "      <td>0.0</td>\n",
       "      <td>0.0</td>\n",
       "      <td>0.0</td>\n",
       "      <td>0.0</td>\n",
       "      <td>0.0</td>\n",
       "      <td>0.0</td>\n",
       "      <td>0.0</td>\n",
       "      <td>0.0</td>\n",
       "      <td>0.0</td>\n",
       "      <td>0.0</td>\n",
       "      <td>0.0</td>\n",
       "      <td>0.0</td>\n",
       "      <td>0.0</td>\n",
       "      <td>0.0</td>\n",
       "      <td>0.0</td>\n",
       "      <td>0.0</td>\n",
       "      <td>0.0</td>\n",
       "      <td>0.0</td>\n",
       "      <td>0.0</td>\n",
       "      <td>0.0</td>\n",
       "      <td>0.0</td>\n",
       "      <td>0.0</td>\n",
       "      <td>0.0</td>\n",
       "      <td>0.0</td>\n",
       "      <td>0.0</td>\n",
       "      <td>0.0</td>\n",
       "      <td>0.0</td>\n",
       "      <td>0.0</td>\n",
       "      <td>0.0</td>\n",
       "      <td>1.0</td>\n",
       "      <td>0.0</td>\n",
       "      <td>0.0</td>\n",
       "      <td>-1.0</td>\n",
       "      <td>...</td>\n",
       "      <td>0.0</td>\n",
       "      <td>0.0</td>\n",
       "      <td>0.0</td>\n",
       "      <td>0.0</td>\n",
       "      <td>0.0</td>\n",
       "      <td>0.0</td>\n",
       "      <td>0.0</td>\n",
       "      <td>-1.0</td>\n",
       "      <td>-0.666667</td>\n",
       "      <td>-1.666667</td>\n",
       "      <td>0.666667</td>\n",
       "      <td>0.0</td>\n",
       "      <td>1.0</td>\n",
       "      <td>1.0</td>\n",
       "      <td>1.111111</td>\n",
       "      <td>0.150000</td>\n",
       "      <td>0.342857</td>\n",
       "      <td>0.0</td>\n",
       "      <td>1.000000</td>\n",
       "      <td>0.5</td>\n",
       "      <td>-0.370892</td>\n",
       "      <td>0.909091</td>\n",
       "      <td>-0.370892</td>\n",
       "      <td>-0.5</td>\n",
       "      <td>-0.884615</td>\n",
       "      <td>-1.146341</td>\n",
       "      <td>0.344262</td>\n",
       "      <td>-0.444444</td>\n",
       "      <td>-1.750</td>\n",
       "      <td>0.0</td>\n",
       "      <td>0.0</td>\n",
       "      <td>-8.0</td>\n",
       "      <td>0.0</td>\n",
       "      <td>0.0</td>\n",
       "      <td>-1.0</td>\n",
       "      <td>-0.639831</td>\n",
       "      <td>3.384615</td>\n",
       "      <td>-0.3125</td>\n",
       "      <td>-0.554113</td>\n",
       "      <td>1.500534</td>\n",
       "    </tr>\n",
       "    <tr>\n",
       "      <th>1</th>\n",
       "      <td>1.0</td>\n",
       "      <td>0.0</td>\n",
       "      <td>0.0</td>\n",
       "      <td>0.0</td>\n",
       "      <td>0.0</td>\n",
       "      <td>0.0</td>\n",
       "      <td>0.0</td>\n",
       "      <td>0.0</td>\n",
       "      <td>0.0</td>\n",
       "      <td>0.0</td>\n",
       "      <td>0.0</td>\n",
       "      <td>0.0</td>\n",
       "      <td>0.0</td>\n",
       "      <td>0.0</td>\n",
       "      <td>0.0</td>\n",
       "      <td>0.0</td>\n",
       "      <td>0.0</td>\n",
       "      <td>0.0</td>\n",
       "      <td>0.0</td>\n",
       "      <td>0.0</td>\n",
       "      <td>0.0</td>\n",
       "      <td>0.0</td>\n",
       "      <td>0.0</td>\n",
       "      <td>0.0</td>\n",
       "      <td>0.0</td>\n",
       "      <td>0.0</td>\n",
       "      <td>0.0</td>\n",
       "      <td>0.0</td>\n",
       "      <td>0.0</td>\n",
       "      <td>0.0</td>\n",
       "      <td>0.0</td>\n",
       "      <td>0.0</td>\n",
       "      <td>0.0</td>\n",
       "      <td>0.0</td>\n",
       "      <td>0.0</td>\n",
       "      <td>0.0</td>\n",
       "      <td>0.0</td>\n",
       "      <td>0.0</td>\n",
       "      <td>0.0</td>\n",
       "      <td>0.0</td>\n",
       "      <td>...</td>\n",
       "      <td>0.0</td>\n",
       "      <td>0.0</td>\n",
       "      <td>0.0</td>\n",
       "      <td>0.0</td>\n",
       "      <td>0.0</td>\n",
       "      <td>0.0</td>\n",
       "      <td>0.0</td>\n",
       "      <td>0.0</td>\n",
       "      <td>-0.651515</td>\n",
       "      <td>-1.666667</td>\n",
       "      <td>1.333333</td>\n",
       "      <td>2.0</td>\n",
       "      <td>2.0</td>\n",
       "      <td>2.0</td>\n",
       "      <td>-0.185185</td>\n",
       "      <td>0.150000</td>\n",
       "      <td>0.571429</td>\n",
       "      <td>0.0</td>\n",
       "      <td>1.333333</td>\n",
       "      <td>-0.5</td>\n",
       "      <td>0.000000</td>\n",
       "      <td>-0.090909</td>\n",
       "      <td>0.000000</td>\n",
       "      <td>0.8</td>\n",
       "      <td>0.307692</td>\n",
       "      <td>-0.097561</td>\n",
       "      <td>-0.471311</td>\n",
       "      <td>-0.037037</td>\n",
       "      <td>-1.125</td>\n",
       "      <td>-1.0</td>\n",
       "      <td>-1.0</td>\n",
       "      <td>-1.0</td>\n",
       "      <td>0.0</td>\n",
       "      <td>-1.0</td>\n",
       "      <td>-1.0</td>\n",
       "      <td>-0.559322</td>\n",
       "      <td>3.384615</td>\n",
       "      <td>-0.0625</td>\n",
       "      <td>1.891775</td>\n",
       "      <td>1.500534</td>\n",
       "    </tr>\n",
       "    <tr>\n",
       "      <th>2</th>\n",
       "      <td>1.0</td>\n",
       "      <td>0.0</td>\n",
       "      <td>0.0</td>\n",
       "      <td>0.0</td>\n",
       "      <td>0.0</td>\n",
       "      <td>0.0</td>\n",
       "      <td>0.0</td>\n",
       "      <td>0.0</td>\n",
       "      <td>0.0</td>\n",
       "      <td>0.0</td>\n",
       "      <td>0.0</td>\n",
       "      <td>0.0</td>\n",
       "      <td>0.0</td>\n",
       "      <td>0.0</td>\n",
       "      <td>0.0</td>\n",
       "      <td>0.0</td>\n",
       "      <td>0.0</td>\n",
       "      <td>0.0</td>\n",
       "      <td>0.0</td>\n",
       "      <td>0.0</td>\n",
       "      <td>0.0</td>\n",
       "      <td>0.0</td>\n",
       "      <td>0.0</td>\n",
       "      <td>0.0</td>\n",
       "      <td>0.0</td>\n",
       "      <td>0.0</td>\n",
       "      <td>0.0</td>\n",
       "      <td>0.0</td>\n",
       "      <td>0.0</td>\n",
       "      <td>0.0</td>\n",
       "      <td>0.0</td>\n",
       "      <td>0.0</td>\n",
       "      <td>0.0</td>\n",
       "      <td>0.0</td>\n",
       "      <td>0.0</td>\n",
       "      <td>0.0</td>\n",
       "      <td>0.0</td>\n",
       "      <td>1.0</td>\n",
       "      <td>0.0</td>\n",
       "      <td>-1.0</td>\n",
       "      <td>...</td>\n",
       "      <td>0.0</td>\n",
       "      <td>-1.0</td>\n",
       "      <td>0.0</td>\n",
       "      <td>1.0</td>\n",
       "      <td>0.0</td>\n",
       "      <td>0.0</td>\n",
       "      <td>1.0</td>\n",
       "      <td>-1.0</td>\n",
       "      <td>-0.636364</td>\n",
       "      <td>0.000000</td>\n",
       "      <td>-0.666667</td>\n",
       "      <td>0.0</td>\n",
       "      <td>0.0</td>\n",
       "      <td>-0.5</td>\n",
       "      <td>-0.685185</td>\n",
       "      <td>-0.100000</td>\n",
       "      <td>0.092136</td>\n",
       "      <td>-0.5</td>\n",
       "      <td>0.000000</td>\n",
       "      <td>0.0</td>\n",
       "      <td>0.000000</td>\n",
       "      <td>0.090909</td>\n",
       "      <td>0.000000</td>\n",
       "      <td>-0.2</td>\n",
       "      <td>-0.769231</td>\n",
       "      <td>-1.073171</td>\n",
       "      <td>-0.672131</td>\n",
       "      <td>0.703704</td>\n",
       "      <td>-0.500</td>\n",
       "      <td>0.0</td>\n",
       "      <td>-1.0</td>\n",
       "      <td>0.0</td>\n",
       "      <td>0.0</td>\n",
       "      <td>-1.0</td>\n",
       "      <td>0.0</td>\n",
       "      <td>0.644068</td>\n",
       "      <td>-0.076923</td>\n",
       "      <td>1.1250</td>\n",
       "      <td>0.764069</td>\n",
       "      <td>1.479159</td>\n",
       "    </tr>\n",
       "    <tr>\n",
       "      <th>3</th>\n",
       "      <td>1.0</td>\n",
       "      <td>0.0</td>\n",
       "      <td>0.0</td>\n",
       "      <td>0.0</td>\n",
       "      <td>0.0</td>\n",
       "      <td>0.0</td>\n",
       "      <td>0.0</td>\n",
       "      <td>0.0</td>\n",
       "      <td>0.0</td>\n",
       "      <td>0.0</td>\n",
       "      <td>0.0</td>\n",
       "      <td>0.0</td>\n",
       "      <td>0.0</td>\n",
       "      <td>0.0</td>\n",
       "      <td>0.0</td>\n",
       "      <td>0.0</td>\n",
       "      <td>0.0</td>\n",
       "      <td>0.0</td>\n",
       "      <td>0.0</td>\n",
       "      <td>0.0</td>\n",
       "      <td>0.0</td>\n",
       "      <td>0.0</td>\n",
       "      <td>0.0</td>\n",
       "      <td>0.0</td>\n",
       "      <td>0.0</td>\n",
       "      <td>0.0</td>\n",
       "      <td>0.0</td>\n",
       "      <td>0.0</td>\n",
       "      <td>0.0</td>\n",
       "      <td>0.0</td>\n",
       "      <td>0.0</td>\n",
       "      <td>0.0</td>\n",
       "      <td>0.0</td>\n",
       "      <td>0.0</td>\n",
       "      <td>0.0</td>\n",
       "      <td>0.0</td>\n",
       "      <td>0.0</td>\n",
       "      <td>0.0</td>\n",
       "      <td>0.0</td>\n",
       "      <td>0.0</td>\n",
       "      <td>...</td>\n",
       "      <td>0.0</td>\n",
       "      <td>0.0</td>\n",
       "      <td>0.0</td>\n",
       "      <td>0.0</td>\n",
       "      <td>0.0</td>\n",
       "      <td>1.0</td>\n",
       "      <td>0.0</td>\n",
       "      <td>0.0</td>\n",
       "      <td>-0.621212</td>\n",
       "      <td>0.000000</td>\n",
       "      <td>0.666667</td>\n",
       "      <td>2.0</td>\n",
       "      <td>2.0</td>\n",
       "      <td>1.5</td>\n",
       "      <td>2.592593</td>\n",
       "      <td>0.900000</td>\n",
       "      <td>1.428571</td>\n",
       "      <td>0.5</td>\n",
       "      <td>0.000000</td>\n",
       "      <td>0.5</td>\n",
       "      <td>0.000000</td>\n",
       "      <td>1.000000</td>\n",
       "      <td>0.000000</td>\n",
       "      <td>0.5</td>\n",
       "      <td>0.384615</td>\n",
       "      <td>0.219512</td>\n",
       "      <td>0.651639</td>\n",
       "      <td>0.185185</td>\n",
       "      <td>0.000</td>\n",
       "      <td>0.0</td>\n",
       "      <td>0.0</td>\n",
       "      <td>0.0</td>\n",
       "      <td>0.0</td>\n",
       "      <td>-1.0</td>\n",
       "      <td>0.0</td>\n",
       "      <td>-0.449153</td>\n",
       "      <td>0.153846</td>\n",
       "      <td>1.4375</td>\n",
       "      <td>2.801948</td>\n",
       "      <td>1.465622</td>\n",
       "    </tr>\n",
       "    <tr>\n",
       "      <th>4</th>\n",
       "      <td>1.0</td>\n",
       "      <td>0.0</td>\n",
       "      <td>0.0</td>\n",
       "      <td>0.0</td>\n",
       "      <td>0.0</td>\n",
       "      <td>0.0</td>\n",
       "      <td>0.0</td>\n",
       "      <td>0.0</td>\n",
       "      <td>0.0</td>\n",
       "      <td>0.0</td>\n",
       "      <td>0.0</td>\n",
       "      <td>0.0</td>\n",
       "      <td>0.0</td>\n",
       "      <td>0.0</td>\n",
       "      <td>0.0</td>\n",
       "      <td>0.0</td>\n",
       "      <td>0.0</td>\n",
       "      <td>0.0</td>\n",
       "      <td>0.0</td>\n",
       "      <td>0.0</td>\n",
       "      <td>0.0</td>\n",
       "      <td>0.0</td>\n",
       "      <td>0.0</td>\n",
       "      <td>0.0</td>\n",
       "      <td>0.0</td>\n",
       "      <td>0.0</td>\n",
       "      <td>0.0</td>\n",
       "      <td>0.0</td>\n",
       "      <td>0.0</td>\n",
       "      <td>0.0</td>\n",
       "      <td>0.0</td>\n",
       "      <td>0.0</td>\n",
       "      <td>0.0</td>\n",
       "      <td>0.0</td>\n",
       "      <td>0.0</td>\n",
       "      <td>0.0</td>\n",
       "      <td>0.0</td>\n",
       "      <td>0.0</td>\n",
       "      <td>0.0</td>\n",
       "      <td>0.0</td>\n",
       "      <td>...</td>\n",
       "      <td>0.0</td>\n",
       "      <td>-1.0</td>\n",
       "      <td>0.0</td>\n",
       "      <td>1.0</td>\n",
       "      <td>0.0</td>\n",
       "      <td>1.0</td>\n",
       "      <td>0.0</td>\n",
       "      <td>0.0</td>\n",
       "      <td>-0.606061</td>\n",
       "      <td>0.000000</td>\n",
       "      <td>-0.666667</td>\n",
       "      <td>0.0</td>\n",
       "      <td>0.0</td>\n",
       "      <td>-0.5</td>\n",
       "      <td>-0.462963</td>\n",
       "      <td>0.224048</td>\n",
       "      <td>0.092136</td>\n",
       "      <td>-0.5</td>\n",
       "      <td>1.000000</td>\n",
       "      <td>-0.5</td>\n",
       "      <td>-0.370892</td>\n",
       "      <td>-0.909091</td>\n",
       "      <td>-0.370892</td>\n",
       "      <td>0.5</td>\n",
       "      <td>0.307692</td>\n",
       "      <td>-0.146341</td>\n",
       "      <td>-0.368852</td>\n",
       "      <td>1.333333</td>\n",
       "      <td>0.125</td>\n",
       "      <td>0.0</td>\n",
       "      <td>0.0</td>\n",
       "      <td>0.0</td>\n",
       "      <td>0.0</td>\n",
       "      <td>0.0</td>\n",
       "      <td>1.0</td>\n",
       "      <td>0.322034</td>\n",
       "      <td>-0.153846</td>\n",
       "      <td>-0.3750</td>\n",
       "      <td>3.035714</td>\n",
       "      <td>1.439971</td>\n",
       "    </tr>\n",
       "  </tbody>\n",
       "</table>\n",
       "<p>5 rows × 86 columns</p>\n",
       "</div>"
      ],
      "text/plain": [
       "   city_Barcelona  city_Madrid  ...  review_span  host_span\n",
       "0             1.0          0.0  ...    -0.554113   1.500534\n",
       "1             1.0          0.0  ...     1.891775   1.500534\n",
       "2             1.0          0.0  ...     0.764069   1.479159\n",
       "3             1.0          0.0  ...     2.801948   1.465622\n",
       "4             1.0          0.0  ...     3.035714   1.439971\n",
       "\n",
       "[5 rows x 86 columns]"
      ]
     },
     "execution_count": 145,
     "metadata": {
      "tags": []
     },
     "output_type": "execute_result"
    }
   ],
   "source": [
    "scaled_data.head()"
   ]
  },
  {
   "cell_type": "code",
   "execution_count": 0,
   "metadata": {
    "colab": {},
    "colab_type": "code",
    "id": "BKYCSsgmcYM2"
   },
   "outputs": [],
   "source": [
    "pd.to_pickle(scaled_data, main+'/scaled_data.pkl')"
   ]
  },
  {
   "cell_type": "code",
   "execution_count": 0,
   "metadata": {
    "colab": {},
    "colab_type": "code",
    "id": "aPm4jt9Z6RsM"
   },
   "outputs": [],
   "source": [
    "\n",
    "from sklearn.model_selection import RandomizedSearchCV, train_test_split\n",
    "from sklearn.ensemble import GradientBoostingRegressor, RandomForestRegressor\n",
    "from sklearn.metrics import r2_score, mean_squared_error\n",
    "import pprint\n",
    "from time import time\n",
    "\n",
    "scaled_data = pd.read_pickle(main+'/scaled_data.pkl')"
   ]
  },
  {
   "cell_type": "code",
   "execution_count": 148,
   "metadata": {
    "colab": {
     "base_uri": "https://localhost:8080/",
     "height": 34
    },
    "colab_type": "code",
    "id": "RSwHUdKX1UxU",
    "outputId": "62b553ef-2c53-42d5-bbb5-d80d507f6ac3"
   },
   "outputs": [
    {
     "data": {
      "text/plain": [
       "(37625, 86)"
      ]
     },
     "execution_count": 148,
     "metadata": {
      "tags": []
     },
     "output_type": "execute_result"
    }
   ],
   "source": [
    "scaled_data.shape"
   ]
  },
  {
   "cell_type": "code",
   "execution_count": 149,
   "metadata": {
    "colab": {
     "base_uri": "https://localhost:8080/",
     "height": 51
    },
    "colab_type": "code",
    "id": "NA8iGvUhtsi2",
    "outputId": "d0c4f302-9e29-41b4-ddba-898f28e082f3"
   },
   "outputs": [
    {
     "name": "stdout",
     "output_type": "stream",
     "text": [
      "26337 data points available for training\n",
      "11288 data points available for testing\n"
     ]
    }
   ],
   "source": [
    "# split the data 70-30\n",
    "X = scaled_data.loc[:, scaled_data.columns != 'price']\n",
    "y = scaled_data['price'] # the target variable\n",
    "\n",
    "X_train, X_test, y_train, y_test = train_test_split(X, y, test_size=0.30)\n",
    "\n",
    "print(f\"{len(y_train)} data points available for training\")\n",
    "print(f\"{len(y_test)} data points available for testing\")"
   ]
  },
  {
   "cell_type": "code",
   "execution_count": 0,
   "metadata": {
    "colab": {},
    "colab_type": "code",
    "id": "TqzlKD-RzySL"
   },
   "outputs": [],
   "source": [
    "# Initial baseline prediction with a RandomForestRegressor - default parameters\n",
    "\n",
    "rfr = RandomForestRegressor(n_estimators=100, criterion='mse', max_depth=None, random_state=42)\n",
    "\n",
    "t0 = time()\n",
    "rfr.fit(X_train, y_train)\n",
    "\n",
    "rf_train_pred = rfr.predict(X_train)\n",
    "rf_y_pred = rfr.predict(X_test)\n",
    "t1 = time() - t0\n",
    "\n",
    "rf_train_score = r2_score(y_train, rf_train_pred)\n",
    "rf_test_score = r2_score(y_test, rf_y_pred)\n",
    "\n",
    "rf_train_mse = mean_squared_error(y_train, rf_train_pred)\n",
    "rf_test_mse = mean_squared_error(y_test, rf_y_pred)"
   ]
  },
  {
   "cell_type": "code",
   "execution_count": 0,
   "metadata": {
    "colab": {},
    "colab_type": "code",
    "id": "id3KkXdo8B0e"
   },
   "outputs": [],
   "source": [
    "# Initial baseline prediction with a GradientBoostingRegressor - default parameters\n",
    "\n",
    "gbr = GradientBoostingRegressor(loss='ls', learning_rate=0.1, n_estimators=100, random_state=42)\n",
    "\n",
    "t3 = time()\n",
    "gbr.fit(X_train, y_train)\n",
    "\n",
    "gb_train_pred = gbr.predict(X_train)\n",
    "gb_y_pred = gbr.predict(X_test)\n",
    "t4 = time() - t3\n",
    "\n",
    "gb_train_score = r2_score(y_train, gb_train_pred)\n",
    "gb_test_score = r2_score(y_test, gb_y_pred)\n",
    "\n",
    "gb_train_mse = mean_squared_error(y_train, gb_train_pred)\n",
    "gb_test_mse = mean_squared_error(y_test, gb_y_pred)"
   ]
  },
  {
   "cell_type": "code",
   "execution_count": 152,
   "metadata": {
    "colab": {
     "base_uri": "https://localhost:8080/",
     "height": 340
    },
    "colab_type": "code",
    "id": "KfClvjZ5660A",
    "outputId": "861b0e92-cd35-4511-baf0-ffd9c9ebd20e"
   },
   "outputs": [
    {
     "name": "stdout",
     "output_type": "stream",
     "text": [
      "=============RandomForest Baseline Prediction================\n",
      "\n",
      "RF Training R2: 0.9562899932817817\n",
      "RF Testing R2: 0.6889381663446554\n",
      "\n",
      "RF Training MSE: 0.05966662893685749\n",
      "RF Testing MSE: 0.43045909032827034\n",
      "\n",
      "Run Time: 44.19190835952759 seconds\n",
      "\n",
      "=============GradientBoosting Baseline Prediction=============\n",
      "\n",
      "GBR Baseline Training Data R2: 0.6448863627494983\n",
      "GBR Baseline Testing Data R2: 0.6217710864726708\n",
      "\n",
      "GBR Training MSE: 0.4847501799951034\n",
      "GBR Testing MSE: 0.5234074271973186\n",
      "\n",
      "Run Time: 5.826072454452515 seconds\n"
     ]
    }
   ],
   "source": [
    "print(\"=============RandomForest Baseline Prediction================\")\n",
    "print(f\"\\nRF Training R2: {rf_train_score}\")\n",
    "print(f\"RF Testing R2: {rf_test_score}\")\n",
    "\n",
    "print(f\"\\nRF Training MSE: {rf_train_mse}\")\n",
    "print(f\"RF Testing MSE: {rf_test_mse}\")\n",
    "print(f\"\\nRun Time: {t1} seconds\")\n",
    "\n",
    "print(\"\\n=============GradientBoosting Baseline Prediction=============\")\n",
    "print(f\"\\nGBR Baseline Training Data R2: {gb_train_score}\")\n",
    "print(f\"GBR Baseline Testing Data R2: {gb_test_score}\")\n",
    "\n",
    "print(f\"\\nGBR Training MSE: {gb_train_mse}\")\n",
    "print(f\"GBR Testing MSE: {gb_test_mse}\")\n",
    "print(f\"\\nRun Time: {t4} seconds\")"
   ]
  },
  {
   "cell_type": "markdown",
   "metadata": {
    "colab_type": "text",
    "id": "3V9qhRwAQJ6y"
   },
   "source": [
    "If we look at our baseline predictions, we can see that the RandomForest overfits the data. The testing score isn't bad though! The R-square values are higher than that of the GradientBooster, and it may (or may not) be difficult to remove the overfitting with proper tuning.\n",
    "\n",
    "However, I feel inclined to go with the GradientBooster. RandomForest is showing signs of overfitting from the get-go, and I'm afraid that tuning will be time intensive as I will need to add a lot more trees to reduce the variance. The R-square values from the GradientBooster can potentially be improved in a stable manner. This algorithm also can outperform RandomForests, when properly tuned, thanks to its 'Early Stopping' abilities - which reduces overfitting by assessing model performance during fitting. Increasing the number of estimators, and countering this with an appropriate learning_rate could also yield a decent linear prediction."
   ]
  },
  {
   "cell_type": "code",
   "execution_count": 161,
   "metadata": {
    "colab": {
     "base_uri": "https://localhost:8080/",
     "height": 459
    },
    "colab_type": "code",
    "id": "Nv3GL0wrtn0F",
    "outputId": "eb78859f-95a0-4f8d-e4d3-de88ce6e1518"
   },
   "outputs": [
    {
     "name": "stdout",
     "output_type": "stream",
     "text": [
      "Fitting 5 folds for each of 30 candidates, totalling 150 fits\n"
     ]
    },
    {
     "name": "stderr",
     "output_type": "stream",
     "text": [
      "[Parallel(n_jobs=4)]: Using backend LokyBackend with 4 concurrent workers.\n",
      "[Parallel(n_jobs=4)]: Done   5 tasks      | elapsed:  1.5min\n",
      "[Parallel(n_jobs=4)]: Done  10 tasks      | elapsed:  2.1min\n",
      "[Parallel(n_jobs=4)]: Done  17 tasks      | elapsed:  4.7min\n",
      "[Parallel(n_jobs=4)]: Done  24 tasks      | elapsed:  6.8min\n",
      "[Parallel(n_jobs=4)]: Done  33 tasks      | elapsed:  8.0min\n",
      "[Parallel(n_jobs=4)]: Done  42 tasks      | elapsed:  9.9min\n",
      "[Parallel(n_jobs=4)]: Done  53 tasks      | elapsed: 12.2min\n",
      "[Parallel(n_jobs=4)]: Done  64 tasks      | elapsed: 15.1min\n",
      "[Parallel(n_jobs=4)]: Done  77 tasks      | elapsed: 18.1min\n",
      "[Parallel(n_jobs=4)]: Done  90 tasks      | elapsed: 20.0min\n",
      "[Parallel(n_jobs=4)]: Done 105 tasks      | elapsed: 21.0min\n",
      "[Parallel(n_jobs=4)]: Done 120 tasks      | elapsed: 24.5min\n",
      "[Parallel(n_jobs=4)]: Done 137 tasks      | elapsed: 26.6min\n",
      "[Parallel(n_jobs=4)]: Done 150 out of 150 | elapsed: 27.8min finished\n"
     ]
    },
    {
     "name": "stdout",
     "output_type": "stream",
     "text": [
      "\n",
      "Best Score across ALL searched params: 0.6595829322301887\n",
      "\n",
      "Search Runtime: 1679.6099953651428 seconds\n",
      "\n",
      "====== Best Parameters ======\n",
      "{'learning_rate': 0.1,\n",
      " 'max_features': 0.6,\n",
      " 'min_samples_split': 4,\n",
      " 'n_estimators': 800}\n"
     ]
    }
   ],
   "source": [
    "gb = GradientBoostingRegressor(n_iter_no_change=5, random_state=42) # early stopping enabled\n",
    "\n",
    "param_grid = {'n_estimators':[700, 800, 900, 1000],\n",
    "                'learning_rate': [0.001, 0.01, 0.05, 0.1],\n",
    "                'max_features': ['sqrt', 0.3, 0.4, 0.5, 0.6],\n",
    "                'min_samples_split': [2, 3, 4]}\n",
    "\n",
    "clf = RandomizedSearchCV(gb, param_grid, n_iter=30, n_jobs=4, cv=5, verbose=10, random_state=42)\n",
    "\n",
    "start_time = time()\n",
    "rand_search = clf.fit(X_train, y_train)\n",
    "run_time = time() - start_time\n",
    "\n",
    "print(f\"\\nBest Score across ALL searched params: {rand_search.best_score_}\")\n",
    "print(f\"\\nSearch Runtime: {run_time} seconds\")\n",
    "\n",
    "print(\"\\n====== Best Parameters ======\")\n",
    "best_params = rand_search.best_params_\n",
    "pprint.pprint(best_params)"
   ]
  },
  {
   "cell_type": "code",
   "execution_count": 0,
   "metadata": {
    "colab": {},
    "colab_type": "code",
    "id": "ZHSCjLJ0sUJ5"
   },
   "outputs": [],
   "source": [
    "def apply_regression(model, X, y):\n",
    "    \"\"\"Fits and predict a model on X, y. Prints out R-square value & Mean Square Error.\n",
    "    Returns a fitted model\n",
    "    \n",
    "    model: estimator, a chosen regressor with selected parameters\n",
    "    X: DataFrame, contains features for prediction. Must comply with 'model' restrictions/requirements for fitting\n",
    "    y: Series or array, target variable of shape (n_rows in X, )\n",
    "    \"\"\"\n",
    "    t0 = time()\n",
    "    fitted = model.fit(X, y)\n",
    "    t1 = time() - t0\n",
    "    y_pred = fitted.predict(X)\n",
    "    runtime = time() - t0\n",
    "\n",
    "    print(\"==========Results==========\")\n",
    "    print(f\"\\nModel R-square: {r2_score(y, y_pred)}\")\n",
    "    print(f\"\\nModel MSE: {mean_squared_error(y, y_pred)}\")\n",
    "    print(f\"\\nModel Fitting Runtime: {t1}\")\n",
    "    print(f\"\\nTotal Runtime: {runtime}\")\n",
    "\n",
    "    return fitted\n",
    "\n",
    "def plot_importance(fitted_model, k, labels):\n",
    "    \"\"\"Plot the k-largest feature importances from fitted_model in a horizontal bar graph\n",
    "    \n",
    "    fitted_model: estimator, a regressor that has been fitted to data X, y\n",
    "    k: int, number of highest feature importances to plot\n",
    "    labels: index or list, feature names for plot y-axis\n",
    "    \"\"\"\n",
    "    feat_imps = pd.Series(fitted_model.feature_importances_, index=labels)\n",
    "    ax = feat_imps.nlargest(k).plot(kind='barh', figsize=(15,7), \n",
    "                                    title='Influential Features on AirBnB Prices in Spanish Cities')\n",
    "    ax.set_xlabel(\"Relative Feature Importance\")\n",
    "    ax.set_ylabel(\"Features\")\n",
    "    ax.invert_yaxis()"
   ]
  },
  {
   "cell_type": "code",
   "execution_count": 165,
   "metadata": {
    "colab": {
     "base_uri": "https://localhost:8080/",
     "height": 615
    },
    "colab_type": "code",
    "id": "NF8r55s-tkAK",
    "outputId": "d8950387-4d5e-437b-b1b0-c96074c0ffb8"
   },
   "outputs": [
    {
     "name": "stdout",
     "output_type": "stream",
     "text": [
      "==========Results==========\n",
      "\n",
      "Model R-square: 0.713980158034322\n",
      "\n",
      "Model MSE: 0.3920448550260423\n",
      "\n",
      "Model Fitting Runtime: 19.532861709594727\n",
      "\n",
      "Total Runtime: 19.758511304855347\n"
     ]
    },
    {
     "data": {
      "image/png": "[encoded data removed]",
      "text/plain": [
       "<Figure size 1080x504 with 1 Axes>"
      ]
     },
     "metadata": {
      "tags": []
     },
     "output_type": "display_data"
    }
   ],
   "source": [
    "new_model = GradientBoostingRegressor(n_iter_no_change=5, n_estimators=best_params['n_estimators'], \n",
    "                                      learning_rate=best_params['learning_rate'], max_features=best_params['max_features'],\n",
    "                                      min_samples_split=best_params['min_samples_split'], random_state=42)\n",
    "\n",
    "fitted = apply_regression(new_model, X, y)\n",
    "\n",
    "plot_importance(fitted, 20, X.columns)"
   ]
  },
  {
   "cell_type": "markdown",
   "metadata": {
    "colab_type": "text",
    "id": "7sntIlUCIRkY"
   },
   "source": [
    "After some adjusting and tuning through cross-validation, I've arrived at a model that can explain ~ 71.4% of the variance on the entire dataset. This is an improvement from the baseline predictions on the testing data subset of 62%.\n",
    "\n",
    "It seems that this model is using the feature 'accomodates' (number of people able to be accommodated per listing) to explain the majority of the variance from the target variable 'Price'. \n",
    "\n",
    "Let's see how the same model performs, if this feature is removed from the dataset."
   ]
  },
  {
   "cell_type": "code",
   "execution_count": 166,
   "metadata": {
    "colab": {
     "base_uri": "https://localhost:8080/",
     "height": 615
    },
    "colab_type": "code",
    "id": "RSAfsnYfwZfl",
    "outputId": "692876e3-0723-4dc7-ec60-540300888b18"
   },
   "outputs": [
    {
     "name": "stdout",
     "output_type": "stream",
     "text": [
      "==========Results==========\n",
      "\n",
      "Model R-square: 0.7053986729363173\n",
      "\n",
      "Model MSE: 0.4038074203712785\n",
      "\n",
      "Model Fitting Runtime: 19.866814851760864\n",
      "\n",
      "Total Runtime: 20.114862203598022\n"
     ]
    },
    {
     "data": {
      "image/png": "[encoded data removed]",
      "text/plain": [
       "<Figure size 1080x504 with 1 Axes>"
      ]
     },
     "metadata": {
      "tags": []
     },
     "output_type": "display_data"
    }
   ],
   "source": [
    "X_without_acc = X.loc[:, X.columns != 'accommodates']\n",
    "\n",
    "fitted_2 = apply_regression(new_model, X_without_acc, y)\n",
    "plot_importance(fitted_2, 20, X_without_acc.columns)"
   ]
  },
  {
   "cell_type": "markdown",
   "metadata": {
    "colab_type": "text",
    "id": "l-uou1pN67BU"
   },
   "source": [
    "# Question 3 Conclusions\n",
    "\n",
    "With the top feature removed from the dataset, the regression model performs at the same level, however it uses the feature 'bedrooms' to explain most of the variance in the predictions. 'cleaning_fee', 'bathrooms', and 'room_Private room' appear to be relatively important as well when predicting prices of listings. A cleaning fee on a property, and the bonus of extra bathrooms, are sure to drive up costs of a property. Adversely, if someone is renting out a Private room as a listing instead of an entire home/apartment, this too would have an affect on how much the price is. \n",
    "\n",
    "Another notable finding is that 'city_Barcelona' appears in the top 10 features for the first application of the model. As we saw in the earlier questions, this is the more expensive city as far as average listing prices go. 'city_Valencia', what I found to be the least expensive, is also being used to explain variance in prediction of prices here. "
   ]
  },
  {
   "cell_type": "code",
   "execution_count": 0,
   "metadata": {
    "colab": {},
    "colab_type": "code",
    "id": "kyYJo4E9hq3V"
   },
   "outputs": [],
   "source": []
  }
 ],
 "metadata": {
  "accelerator": "GPU",
  "colab": {
   "collapsed_sections": [],
   "name": "AirBNB_SpanishCities.ipynb",
   "provenance": []
  },
  "kernelspec": {
   "display_name": "Python 3",
   "language": "python",
   "name": "python3"
  },
  "language_info": {
   "codemirror_mode": {
    "name": "ipython",
    "version": 3
   },
   "file_extension": ".py",
   "mimetype": "text/x-python",
   "name": "python",
   "nbconvert_exporter": "python",
   "pygments_lexer": "ipython3",
   "version": "3.6.6"
  }
 },
 "nbformat": 4,
 "nbformat_minor": 1
}
